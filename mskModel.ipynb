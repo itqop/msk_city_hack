{
  "nbformat": 4,
  "nbformat_minor": 0,
  "metadata": {
    "colab": {
      "name": "mskModel.ipynb",
      "provenance": []
    },
    "kernelspec": {
      "name": "python3",
      "display_name": "Python 3"
    },
    "language_info": {
      "name": "python"
    }
  },
  "cells": [
    {
      "cell_type": "code",
      "metadata": {
        "colab": {
          "base_uri": "https://localhost:8080/"
        },
        "id": "A4Nh2lAuap55",
        "outputId": "6b4a0aa3-d8a9-42fc-80dc-a4db81940b7f"
      },
      "source": [
        "import sklearn\n",
        "import pandas as pd\n",
        "import numpy as np\n",
        "!pip install catboost\n",
        "import catboost\n",
        "import random\n",
        "from sklearn.model_selection import train_test_split\n",
        "from sklearn.metrics import *"
      ],
      "execution_count": 8,
      "outputs": [
        {
          "output_type": "stream",
          "text": [
            "Requirement already satisfied: catboost in /usr/local/lib/python3.7/dist-packages (0.26)\n",
            "Requirement already satisfied: scipy in /usr/local/lib/python3.7/dist-packages (from catboost) (1.4.1)\n",
            "Requirement already satisfied: six in /usr/local/lib/python3.7/dist-packages (from catboost) (1.15.0)\n",
            "Requirement already satisfied: matplotlib in /usr/local/lib/python3.7/dist-packages (from catboost) (3.2.2)\n",
            "Requirement already satisfied: pandas>=0.24.0 in /usr/local/lib/python3.7/dist-packages (from catboost) (1.1.5)\n",
            "Requirement already satisfied: numpy>=1.16.0 in /usr/local/lib/python3.7/dist-packages (from catboost) (1.19.5)\n",
            "Requirement already satisfied: graphviz in /usr/local/lib/python3.7/dist-packages (from catboost) (0.10.1)\n",
            "Requirement already satisfied: plotly in /usr/local/lib/python3.7/dist-packages (from catboost) (4.4.1)\n",
            "Requirement already satisfied: cycler>=0.10 in /usr/local/lib/python3.7/dist-packages (from matplotlib->catboost) (0.10.0)\n",
            "Requirement already satisfied: pyparsing!=2.0.4,!=2.1.2,!=2.1.6,>=2.0.1 in /usr/local/lib/python3.7/dist-packages (from matplotlib->catboost) (2.4.7)\n",
            "Requirement already satisfied: python-dateutil>=2.1 in /usr/local/lib/python3.7/dist-packages (from matplotlib->catboost) (2.8.1)\n",
            "Requirement already satisfied: kiwisolver>=1.0.1 in /usr/local/lib/python3.7/dist-packages (from matplotlib->catboost) (1.3.1)\n",
            "Requirement already satisfied: pytz>=2017.2 in /usr/local/lib/python3.7/dist-packages (from pandas>=0.24.0->catboost) (2018.9)\n",
            "Requirement already satisfied: retrying>=1.3.3 in /usr/local/lib/python3.7/dist-packages (from plotly->catboost) (1.3.3)\n"
          ],
          "name": "stdout"
        }
      ]
    },
    {
      "cell_type": "code",
      "metadata": {
        "id": "A0wOB1stbWf6"
      },
      "source": [
        "data_main=pd.read_csv('data_with_concur.csv')\n",
        "data_main.drop(['Unnamed: 0'], axis=1, inplace=True)"
      ],
      "execution_count": 5,
      "outputs": []
    },
    {
      "cell_type": "code",
      "metadata": {
        "id": "ccbUoKyobo6p"
      },
      "source": [
        "cian_data=pd.read_csv('cian_data.csv')"
      ],
      "execution_count": 3,
      "outputs": []
    },
    {
      "cell_type": "code",
      "metadata": {
        "id": "kFXH-pILb4we"
      },
      "source": [
        "cian=cian_data.groupby([pd.cut(cian_data['latitude'], np.arange(55.655155, 55.753211975097656+0.0028016226632254465, 0.0028016226632254465)),pd.cut(cian_data['longitude'], np.arange(37.49541473388672, 37.75920104980469+0.007536751883370536, 0.007536751883370536))])['price'].mean().reset_index()"
      ],
      "execution_count": 10,
      "outputs": []
    },
    {
      "cell_type": "code",
      "metadata": {
        "id": "p-CCigEvb6Eu"
      },
      "source": [
        "cian.price=cian.price.fillna(10000000)"
      ],
      "execution_count": 12,
      "outputs": []
    },
    {
      "cell_type": "code",
      "metadata": {
        "id": "2UgO8bgLc2qG"
      },
      "source": [
        "data_main['price']=np.zeros(data_main.shape[0])"
      ],
      "execution_count": 13,
      "outputs": []
    },
    {
      "cell_type": "code",
      "metadata": {
        "id": "h7dLDhOXdqCi"
      },
      "source": [
        "data_main['price']=cian['price']"
      ],
      "execution_count": 24,
      "outputs": []
    },
    {
      "cell_type": "code",
      "metadata": {
        "id": "W7zjxVy1eMjH"
      },
      "source": [
        "data_main.to_csv('data_main_train.csv')"
      ],
      "execution_count": 25,
      "outputs": []
    },
    {
      "cell_type": "code",
      "metadata": {
        "id": "h0-PQw1nxkxS"
      },
      "source": [
        "spheres=data_main.columns[9:-1]"
      ],
      "execution_count": null,
      "outputs": []
    },
    {
      "cell_type": "code",
      "metadata": {
        "id": "DUJjc_TsfsoG"
      },
      "source": [
        "data_bez_con=data_main.drop(spheres, axis=1)"
      ],
      "execution_count": 133,
      "outputs": []
    },
    {
      "cell_type": "code",
      "metadata": {
        "id": "3dkccWvFhKYf"
      },
      "source": [
        "data_bez_con.to_csv('model_dataset.csv')"
      ],
      "execution_count": 211,
      "outputs": []
    },
    {
      "cell_type": "code",
      "metadata": {
        "id": "k4OGNi4IgMUn"
      },
      "source": [
        "train=[]\n",
        "for i in range(data_main.shape[0]):\n",
        "  for j in spheres:\n",
        "    if data_main.iloc[i][j]>0:\n",
        "      train.append([*data_bez_con.iloc[i].to_list(),j,1])\n",
        "    else:\n",
        "      if random.random()>0.8:\n",
        "        train.append([*data_bez_con.iloc[i].to_list(),j,0])"
      ],
      "execution_count": 136,
      "outputs": []
    },
    {
      "cell_type": "code",
      "metadata": {
        "id": "OKzrBHm_gdsx"
      },
      "source": [
        "data_train=pd.DataFrame(train)"
      ],
      "execution_count": 137,
      "outputs": []
    },
    {
      "cell_type": "code",
      "metadata": {
        "colab": {
          "base_uri": "https://localhost:8080/",
          "height": 206
        },
        "id": "Q6oZgyDVxx-r",
        "outputId": "7318c4e2-cd38-400d-dab5-111238ff76fe"
      },
      "source": [
        "data_train.head()"
      ],
      "execution_count": 138,
      "outputs": [
        {
          "output_type": "execute_result",
          "data": {
            "text/html": [
              "<div>\n",
              "<style scoped>\n",
              "    .dataframe tbody tr th:only-of-type {\n",
              "        vertical-align: middle;\n",
              "    }\n",
              "\n",
              "    .dataframe tbody tr th {\n",
              "        vertical-align: top;\n",
              "    }\n",
              "\n",
              "    .dataframe thead th {\n",
              "        text-align: right;\n",
              "    }\n",
              "</style>\n",
              "<table border=\"1\" class=\"dataframe\">\n",
              "  <thead>\n",
              "    <tr style=\"text-align: right;\">\n",
              "      <th></th>\n",
              "      <th>0</th>\n",
              "      <th>1</th>\n",
              "      <th>2</th>\n",
              "      <th>3</th>\n",
              "      <th>4</th>\n",
              "      <th>5</th>\n",
              "      <th>6</th>\n",
              "      <th>7</th>\n",
              "      <th>8</th>\n",
              "      <th>9</th>\n",
              "      <th>10</th>\n",
              "      <th>11</th>\n",
              "    </tr>\n",
              "  </thead>\n",
              "  <tbody>\n",
              "    <tr>\n",
              "      <th>0</th>\n",
              "      <td>(55.655, 55.658]</td>\n",
              "      <td>(37.495, 37.503]</td>\n",
              "      <td>0.0</td>\n",
              "      <td>0.0</td>\n",
              "      <td>0.0</td>\n",
              "      <td>0.0</td>\n",
              "      <td>0.0</td>\n",
              "      <td>Юго-западная</td>\n",
              "      <td>0.016882</td>\n",
              "      <td>93104.0</td>\n",
              "      <td>cafe</td>\n",
              "      <td>1</td>\n",
              "    </tr>\n",
              "    <tr>\n",
              "      <th>1</th>\n",
              "      <td>(55.655, 55.658]</td>\n",
              "      <td>(37.495, 37.503]</td>\n",
              "      <td>0.0</td>\n",
              "      <td>0.0</td>\n",
              "      <td>0.0</td>\n",
              "      <td>0.0</td>\n",
              "      <td>0.0</td>\n",
              "      <td>Юго-западная</td>\n",
              "      <td>0.016882</td>\n",
              "      <td>93104.0</td>\n",
              "      <td>clinic</td>\n",
              "      <td>1</td>\n",
              "    </tr>\n",
              "    <tr>\n",
              "      <th>2</th>\n",
              "      <td>(55.655, 55.658]</td>\n",
              "      <td>(37.495, 37.503]</td>\n",
              "      <td>0.0</td>\n",
              "      <td>0.0</td>\n",
              "      <td>0.0</td>\n",
              "      <td>0.0</td>\n",
              "      <td>0.0</td>\n",
              "      <td>Юго-западная</td>\n",
              "      <td>0.016882</td>\n",
              "      <td>93104.0</td>\n",
              "      <td>dentist</td>\n",
              "      <td>1</td>\n",
              "    </tr>\n",
              "    <tr>\n",
              "      <th>3</th>\n",
              "      <td>(55.655, 55.658]</td>\n",
              "      <td>(37.503, 37.51]</td>\n",
              "      <td>0.0</td>\n",
              "      <td>0.0</td>\n",
              "      <td>0.0</td>\n",
              "      <td>0.0</td>\n",
              "      <td>0.0</td>\n",
              "      <td>Проспект Вернадского</td>\n",
              "      <td>0.019732</td>\n",
              "      <td>10000000.0</td>\n",
              "      <td>drink</td>\n",
              "      <td>0</td>\n",
              "    </tr>\n",
              "    <tr>\n",
              "      <th>4</th>\n",
              "      <td>(55.655, 55.658]</td>\n",
              "      <td>(37.51, 37.518]</td>\n",
              "      <td>0.0</td>\n",
              "      <td>0.0</td>\n",
              "      <td>0.0</td>\n",
              "      <td>0.0</td>\n",
              "      <td>0.0</td>\n",
              "      <td>Беляево</td>\n",
              "      <td>0.018684</td>\n",
              "      <td>10000000.0</td>\n",
              "      <td>drink</td>\n",
              "      <td>1</td>\n",
              "    </tr>\n",
              "  </tbody>\n",
              "</table>\n",
              "</div>"
            ],
            "text/plain": [
              "                 0                 1    2   ...          9        10  11\n",
              "0  (55.655, 55.658]  (37.495, 37.503]  0.0  ...     93104.0     cafe   1\n",
              "1  (55.655, 55.658]  (37.495, 37.503]  0.0  ...     93104.0   clinic   1\n",
              "2  (55.655, 55.658]  (37.495, 37.503]  0.0  ...     93104.0  dentist   1\n",
              "3  (55.655, 55.658]   (37.503, 37.51]  0.0  ...  10000000.0    drink   0\n",
              "4  (55.655, 55.658]   (37.51, 37.518]  0.0  ...  10000000.0    drink   1\n",
              "\n",
              "[5 rows x 12 columns]"
            ]
          },
          "metadata": {
            "tags": []
          },
          "execution_count": 138
        }
      ]
    },
    {
      "cell_type": "code",
      "metadata": {
        "id": "mh0DPEdGjuwU"
      },
      "source": [
        "X=data_train.drop([11],axis=1)"
      ],
      "execution_count": 139,
      "outputs": []
    },
    {
      "cell_type": "code",
      "metadata": {
        "colab": {
          "base_uri": "https://localhost:8080/",
          "height": 206
        },
        "id": "Axp-HSR2rWvy",
        "outputId": "857b24c0-4567-41c5-b894-fbc5a665e68c"
      },
      "source": [
        "X.head()"
      ],
      "execution_count": 140,
      "outputs": [
        {
          "output_type": "execute_result",
          "data": {
            "text/html": [
              "<div>\n",
              "<style scoped>\n",
              "    .dataframe tbody tr th:only-of-type {\n",
              "        vertical-align: middle;\n",
              "    }\n",
              "\n",
              "    .dataframe tbody tr th {\n",
              "        vertical-align: top;\n",
              "    }\n",
              "\n",
              "    .dataframe thead th {\n",
              "        text-align: right;\n",
              "    }\n",
              "</style>\n",
              "<table border=\"1\" class=\"dataframe\">\n",
              "  <thead>\n",
              "    <tr style=\"text-align: right;\">\n",
              "      <th></th>\n",
              "      <th>0</th>\n",
              "      <th>1</th>\n",
              "      <th>2</th>\n",
              "      <th>3</th>\n",
              "      <th>4</th>\n",
              "      <th>5</th>\n",
              "      <th>6</th>\n",
              "      <th>7</th>\n",
              "      <th>8</th>\n",
              "      <th>9</th>\n",
              "      <th>10</th>\n",
              "    </tr>\n",
              "  </thead>\n",
              "  <tbody>\n",
              "    <tr>\n",
              "      <th>0</th>\n",
              "      <td>(55.655, 55.658]</td>\n",
              "      <td>(37.495, 37.503]</td>\n",
              "      <td>0.0</td>\n",
              "      <td>0.0</td>\n",
              "      <td>0.0</td>\n",
              "      <td>0.0</td>\n",
              "      <td>0.0</td>\n",
              "      <td>Юго-западная</td>\n",
              "      <td>0.016882</td>\n",
              "      <td>93104.0</td>\n",
              "      <td>cafe</td>\n",
              "    </tr>\n",
              "    <tr>\n",
              "      <th>1</th>\n",
              "      <td>(55.655, 55.658]</td>\n",
              "      <td>(37.495, 37.503]</td>\n",
              "      <td>0.0</td>\n",
              "      <td>0.0</td>\n",
              "      <td>0.0</td>\n",
              "      <td>0.0</td>\n",
              "      <td>0.0</td>\n",
              "      <td>Юго-западная</td>\n",
              "      <td>0.016882</td>\n",
              "      <td>93104.0</td>\n",
              "      <td>clinic</td>\n",
              "    </tr>\n",
              "    <tr>\n",
              "      <th>2</th>\n",
              "      <td>(55.655, 55.658]</td>\n",
              "      <td>(37.495, 37.503]</td>\n",
              "      <td>0.0</td>\n",
              "      <td>0.0</td>\n",
              "      <td>0.0</td>\n",
              "      <td>0.0</td>\n",
              "      <td>0.0</td>\n",
              "      <td>Юго-западная</td>\n",
              "      <td>0.016882</td>\n",
              "      <td>93104.0</td>\n",
              "      <td>dentist</td>\n",
              "    </tr>\n",
              "    <tr>\n",
              "      <th>3</th>\n",
              "      <td>(55.655, 55.658]</td>\n",
              "      <td>(37.503, 37.51]</td>\n",
              "      <td>0.0</td>\n",
              "      <td>0.0</td>\n",
              "      <td>0.0</td>\n",
              "      <td>0.0</td>\n",
              "      <td>0.0</td>\n",
              "      <td>Проспект Вернадского</td>\n",
              "      <td>0.019732</td>\n",
              "      <td>10000000.0</td>\n",
              "      <td>drink</td>\n",
              "    </tr>\n",
              "    <tr>\n",
              "      <th>4</th>\n",
              "      <td>(55.655, 55.658]</td>\n",
              "      <td>(37.51, 37.518]</td>\n",
              "      <td>0.0</td>\n",
              "      <td>0.0</td>\n",
              "      <td>0.0</td>\n",
              "      <td>0.0</td>\n",
              "      <td>0.0</td>\n",
              "      <td>Беляево</td>\n",
              "      <td>0.018684</td>\n",
              "      <td>10000000.0</td>\n",
              "      <td>drink</td>\n",
              "    </tr>\n",
              "  </tbody>\n",
              "</table>\n",
              "</div>"
            ],
            "text/plain": [
              "                 0                 1    2   ...        8           9        10\n",
              "0  (55.655, 55.658]  (37.495, 37.503]  0.0  ...  0.016882     93104.0     cafe\n",
              "1  (55.655, 55.658]  (37.495, 37.503]  0.0  ...  0.016882     93104.0   clinic\n",
              "2  (55.655, 55.658]  (37.495, 37.503]  0.0  ...  0.016882     93104.0  dentist\n",
              "3  (55.655, 55.658]   (37.503, 37.51]  0.0  ...  0.019732  10000000.0    drink\n",
              "4  (55.655, 55.658]   (37.51, 37.518]  0.0  ...  0.018684  10000000.0    drink\n",
              "\n",
              "[5 rows x 11 columns]"
            ]
          },
          "metadata": {
            "tags": []
          },
          "execution_count": 140
        }
      ]
    },
    {
      "cell_type": "code",
      "metadata": {
        "id": "18Gcwy44lcpI"
      },
      "source": [
        "y=data_train[11]"
      ],
      "execution_count": 152,
      "outputs": []
    },
    {
      "cell_type": "code",
      "metadata": {
        "colab": {
          "base_uri": "https://localhost:8080/"
        },
        "id": "y1L_LzmMrBg_",
        "outputId": "d57c869f-012f-4992-a544-adc935c3bad0"
      },
      "source": [
        "spheres"
      ],
      "execution_count": 157,
      "outputs": [
        {
          "output_type": "execute_result",
          "data": {
            "text/plain": [
              "Index(['bakery', 'butcher', 'cafe', 'chemist', 'clinic', 'dentist', 'drink',\n",
              "       'fixer', 'florist', 'hairdresser', 'pharmacy', 'photo', 'shop', 'spa',\n",
              "       'tobacco', 'vets'],\n",
              "      dtype='object')"
            ]
          },
          "metadata": {
            "tags": []
          },
          "execution_count": 157
        }
      ]
    },
    {
      "cell_type": "code",
      "metadata": {
        "id": "Z9FIPsdpnmQg"
      },
      "source": [
        "cb=catboost.CatBoostClassifier(cat_features=[0,1,7,10])"
      ],
      "execution_count": 163,
      "outputs": []
    },
    {
      "cell_type": "code",
      "metadata": {
        "id": "tVd2OZIvp_g5"
      },
      "source": [
        "X_train, X_test, y_train, y_test= train_test_split(X, y)"
      ],
      "execution_count": 164,
      "outputs": []
    },
    {
      "cell_type": "code",
      "metadata": {
        "id": "FMZadErEpEAw"
      },
      "source": [
        "cb.fit(X_train, y_train)"
      ],
      "execution_count": null,
      "outputs": []
    },
    {
      "cell_type": "code",
      "metadata": {
        "colab": {
          "base_uri": "https://localhost:8080/"
        },
        "id": "vfYRx-_nuXLS",
        "outputId": "d076651a-af86-4645-cf35-b6fa44556f29"
      },
      "source": [
        "roc_auc_score(y_test, cb.predict_proba(X_test)[:,1])"
      ],
      "execution_count": 166,
      "outputs": [
        {
          "output_type": "execute_result",
          "data": {
            "text/plain": [
              "0.9035452404978137"
            ]
          },
          "metadata": {
            "tags": []
          },
          "execution_count": 166
        }
      ]
    },
    {
      "cell_type": "code",
      "metadata": {
        "colab": {
          "base_uri": "https://localhost:8080/"
        },
        "id": "AjafPg9Iux8B",
        "outputId": "c07ed636-9c62-47d3-d574-bd2f44c6b686"
      },
      "source": [
        "accuracy_score(y_test, cb.predict(X_test))"
      ],
      "execution_count": 167,
      "outputs": [
        {
          "output_type": "execute_result",
          "data": {
            "text/plain": [
              "0.8287444933920705"
            ]
          },
          "metadata": {
            "tags": []
          },
          "execution_count": 167
        }
      ]
    }
  ]
}