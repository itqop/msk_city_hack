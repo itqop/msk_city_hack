{
  "nbformat": 4,
  "nbformat_minor": 0,
  "metadata": {
    "colab": {
      "name": "AddOSMtoMetro.ipynb",
      "provenance": [],
      "history_visible": true
    },
    "kernelspec": {
      "display_name": "Python 3",
      "name": "python3"
    },
    "language_info": {
      "name": "python"
    },
    "widgets": {
      "application/vnd.jupyter.widget-state+json": {
        "927056aa7a7441c1af27a926b4cf5120": {
          "model_module": "@jupyter-widgets/controls",
          "model_name": "HBoxModel",
          "state": {
            "_dom_classes": [],
            "_model_module": "@jupyter-widgets/controls",
            "_model_module_version": "1.5.0",
            "_model_name": "HBoxModel",
            "_view_count": null,
            "_view_module": "@jupyter-widgets/controls",
            "_view_module_version": "1.5.0",
            "_view_name": "HBoxView",
            "box_style": "",
            "children": [
              "IPY_MODEL_6049d1b3e173422686349328cfc5c980",
              "IPY_MODEL_b56e1f4c4ef24354ab1a359d7281c4dc"
            ],
            "layout": "IPY_MODEL_2d26515168964da0b1cad83916ff1a8c"
          }
        },
        "6049d1b3e173422686349328cfc5c980": {
          "model_module": "@jupyter-widgets/controls",
          "model_name": "FloatProgressModel",
          "state": {
            "_dom_classes": [],
            "_model_module": "@jupyter-widgets/controls",
            "_model_module_version": "1.5.0",
            "_model_name": "FloatProgressModel",
            "_view_count": null,
            "_view_module": "@jupyter-widgets/controls",
            "_view_module_version": "1.5.0",
            "_view_name": "ProgressView",
            "bar_style": "",
            "description": " 87%",
            "description_tooltip": null,
            "layout": "IPY_MODEL_6c366a4ffdf2479bbbeeac48cab61733",
            "max": 1296,
            "min": 0,
            "orientation": "horizontal",
            "style": "IPY_MODEL_ff9c5daced37456eb7aaa48415946365",
            "value": 1126
          }
        },
        "b56e1f4c4ef24354ab1a359d7281c4dc": {
          "model_module": "@jupyter-widgets/controls",
          "model_name": "HTMLModel",
          "state": {
            "_dom_classes": [],
            "_model_module": "@jupyter-widgets/controls",
            "_model_module_version": "1.5.0",
            "_model_name": "HTMLModel",
            "_view_count": null,
            "_view_module": "@jupyter-widgets/controls",
            "_view_module_version": "1.5.0",
            "_view_name": "HTMLView",
            "description": "",
            "description_tooltip": null,
            "layout": "IPY_MODEL_805ac12771c24a2f81534a6c5ea0b970",
            "placeholder": "​",
            "style": "IPY_MODEL_a41275d65a6845639c42882d2b36f3a4",
            "value": " 1126/1296 [6:39:21&lt;50:01, 17.66s/it]"
          }
        },
        "2d26515168964da0b1cad83916ff1a8c": {
          "model_module": "@jupyter-widgets/base",
          "model_name": "LayoutModel",
          "state": {
            "_model_module": "@jupyter-widgets/base",
            "_model_module_version": "1.2.0",
            "_model_name": "LayoutModel",
            "_view_count": null,
            "_view_module": "@jupyter-widgets/base",
            "_view_module_version": "1.2.0",
            "_view_name": "LayoutView",
            "align_content": null,
            "align_items": null,
            "align_self": null,
            "border": null,
            "bottom": null,
            "display": null,
            "flex": null,
            "flex_flow": null,
            "grid_area": null,
            "grid_auto_columns": null,
            "grid_auto_flow": null,
            "grid_auto_rows": null,
            "grid_column": null,
            "grid_gap": null,
            "grid_row": null,
            "grid_template_areas": null,
            "grid_template_columns": null,
            "grid_template_rows": null,
            "height": null,
            "justify_content": null,
            "justify_items": null,
            "left": null,
            "margin": null,
            "max_height": null,
            "max_width": null,
            "min_height": null,
            "min_width": null,
            "object_fit": null,
            "object_position": null,
            "order": null,
            "overflow": null,
            "overflow_x": null,
            "overflow_y": null,
            "padding": null,
            "right": null,
            "top": null,
            "visibility": null,
            "width": null
          }
        },
        "6c366a4ffdf2479bbbeeac48cab61733": {
          "model_module": "@jupyter-widgets/base",
          "model_name": "LayoutModel",
          "state": {
            "_model_module": "@jupyter-widgets/base",
            "_model_module_version": "1.2.0",
            "_model_name": "LayoutModel",
            "_view_count": null,
            "_view_module": "@jupyter-widgets/base",
            "_view_module_version": "1.2.0",
            "_view_name": "LayoutView",
            "align_content": null,
            "align_items": null,
            "align_self": null,
            "border": null,
            "bottom": null,
            "display": null,
            "flex": null,
            "flex_flow": null,
            "grid_area": null,
            "grid_auto_columns": null,
            "grid_auto_flow": null,
            "grid_auto_rows": null,
            "grid_column": null,
            "grid_gap": null,
            "grid_row": null,
            "grid_template_areas": null,
            "grid_template_columns": null,
            "grid_template_rows": null,
            "height": null,
            "justify_content": null,
            "justify_items": null,
            "left": null,
            "margin": null,
            "max_height": null,
            "max_width": null,
            "min_height": null,
            "min_width": null,
            "object_fit": null,
            "object_position": null,
            "order": null,
            "overflow": null,
            "overflow_x": null,
            "overflow_y": null,
            "padding": null,
            "right": null,
            "top": null,
            "visibility": null,
            "width": null
          }
        },
        "ff9c5daced37456eb7aaa48415946365": {
          "model_module": "@jupyter-widgets/controls",
          "model_name": "ProgressStyleModel",
          "state": {
            "_model_module": "@jupyter-widgets/controls",
            "_model_module_version": "1.5.0",
            "_model_name": "ProgressStyleModel",
            "_view_count": null,
            "_view_module": "@jupyter-widgets/base",
            "_view_module_version": "1.2.0",
            "_view_name": "StyleView",
            "bar_color": null,
            "description_width": "initial"
          }
        },
        "805ac12771c24a2f81534a6c5ea0b970": {
          "model_module": "@jupyter-widgets/base",
          "model_name": "LayoutModel",
          "state": {
            "_model_module": "@jupyter-widgets/base",
            "_model_module_version": "1.2.0",
            "_model_name": "LayoutModel",
            "_view_count": null,
            "_view_module": "@jupyter-widgets/base",
            "_view_module_version": "1.2.0",
            "_view_name": "LayoutView",
            "align_content": null,
            "align_items": null,
            "align_self": null,
            "border": null,
            "bottom": null,
            "display": null,
            "flex": null,
            "flex_flow": null,
            "grid_area": null,
            "grid_auto_columns": null,
            "grid_auto_flow": null,
            "grid_auto_rows": null,
            "grid_column": null,
            "grid_gap": null,
            "grid_row": null,
            "grid_template_areas": null,
            "grid_template_columns": null,
            "grid_template_rows": null,
            "height": null,
            "justify_content": null,
            "justify_items": null,
            "left": null,
            "margin": null,
            "max_height": null,
            "max_width": null,
            "min_height": null,
            "min_width": null,
            "object_fit": null,
            "object_position": null,
            "order": null,
            "overflow": null,
            "overflow_x": null,
            "overflow_y": null,
            "padding": null,
            "right": null,
            "top": null,
            "visibility": null,
            "width": null
          }
        },
        "a41275d65a6845639c42882d2b36f3a4": {
          "model_module": "@jupyter-widgets/controls",
          "model_name": "DescriptionStyleModel",
          "state": {
            "_model_module": "@jupyter-widgets/controls",
            "_model_module_version": "1.5.0",
            "_model_name": "DescriptionStyleModel",
            "_view_count": null,
            "_view_module": "@jupyter-widgets/base",
            "_view_module_version": "1.2.0",
            "_view_name": "StyleView",
            "description_width": ""
          }
        }
      }
    }
  },
  "cells": [
    {
      "cell_type": "code",
      "metadata": {
        "id": "363kLLrEpVLT"
      },
      "source": [
        "mn1,mn2,mx1,mx2=55.655155181884766, 37.49541473388672, 55.753211975097656, 37.75920104980469"
      ],
      "execution_count": null,
      "outputs": []
    },
    {
      "cell_type": "code",
      "metadata": {
        "id": "2j6wsXgcrMm4"
      },
      "source": [
        "import numpy as np\n",
        "import pandas as pd\n",
        "range_lat=np.arange(55.655155, 55.753211975097656+0.0028016226632254465, 0.0028016226632254465)\n",
        "range_long=np.arange(37.49541473388672, 37.75920104980469+0.007536751883370536, 0.007536751883370536)"
      ],
      "execution_count": null,
      "outputs": []
    },
    {
      "cell_type": "code",
      "metadata": {
        "colab": {
          "base_uri": "https://localhost:8080/"
        },
        "id": "aptaQ-LbrSka",
        "outputId": "12dc6382-5ef2-4e31-bf90-edebd832c066"
      },
      "source": [
        "!pip install  overpy"
      ],
      "execution_count": null,
      "outputs": [
        {
          "output_type": "stream",
          "text": [
            "Collecting overpy\n",
            "\u001b[?25l  Downloading https://files.pythonhosted.org/packages/67/0b/df196ba469da920d97b5a32214c57c88caaf083dbd5fe0e581b7e781c7dd/overpy-0.6.tar.gz (47kB)\n",
            "\r\u001b[K     |██████▉                         | 10kB 10.8MB/s eta 0:00:01\r\u001b[K     |█████████████▊                  | 20kB 15.0MB/s eta 0:00:01\r\u001b[K     |████████████████████▌           | 30kB 12.3MB/s eta 0:00:01\r\u001b[K     |███████████████████████████▍    | 40kB 10.4MB/s eta 0:00:01\r\u001b[K     |████████████████████████████████| 51kB 2.9MB/s \n",
            "\u001b[?25hBuilding wheels for collected packages: overpy\n",
            "  Building wheel for overpy (setup.py) ... \u001b[?25l\u001b[?25hdone\n",
            "  Created wheel for overpy: filename=overpy-0.6-cp37-none-any.whl size=14107 sha256=38c6c7fbfc1a800bc0853165da555bebf25bb95e18613c7a3b1675b20962bb84\n",
            "  Stored in directory: /root/.cache/pip/wheels/bb/84/dc/059d81d88c256d439283d61be933a88937f28fa1eb49f03876\n",
            "Successfully built overpy\n",
            "Installing collected packages: overpy\n",
            "Successfully installed overpy-0.6\n"
          ],
          "name": "stdout"
        }
      ]
    },
    {
      "cell_type": "code",
      "metadata": {
        "id": "O7ssaxeHrVPe"
      },
      "source": [
        "import overpy\n",
        "api = overpy.Overpass()\n",
        "\n",
        "def getarea(lat, lon, latend, lonend):\n",
        "    coord = f\"{lat},{lon},{latend},{lonend}\"\n",
        "    #[out:json];\n",
        "    string = f\"\"\"node({coord}); out;\n",
        "    \"\"\"\n",
        "\n",
        "    data = api.query(string)\n",
        "    return data.nodes\n",
        "\n",
        "#https://wiki.openstreetmap.org/wiki/RU:%D0%9A%D0%B0%D0%BA_%D0%BE%D0%B1%D0%BE%D0%B7%D0%BD%D0%B0%D1%87%D0%B8%D1%82%D1%8C\n",
        "# Пример вывода данных\n",
        "# zone = getarea()\n",
        "# for node in zone:\n",
        "#     if 'amenity' in node.tags:\n",
        "#         print(f\"amen= {node.tags['amenity']}\")\n",
        "#     if 'shop' in node.tags:\n",
        "#         print(f\"shop= {node.tags['shop']}\")\n",
        "#     print(f\"lon= {node.lon} lat={node.lat} \")"
      ],
      "execution_count": null,
      "outputs": []
    },
    {
      "cell_type": "code",
      "metadata": {
        "id": "mIQnsgFbrXgw"
      },
      "source": [
        "shift_lat=range_lat[1]-range_lat[0]\n",
        "shift_long=range_long[1]-range_long[0]\n",
        "import time\n",
        "area_res=getarea(mn1,mn2,mx1,mx2)"
      ],
      "execution_count": null,
      "outputs": []
    },
    {
      "cell_type": "code",
      "metadata": {
        "id": "ZEwuP1bOrekV"
      },
      "source": [
        "def OSMGetData(area_res, lat, lon, latend, longend, amensp = set(), shopsp = set(), buildsp = set(), leisusp = set(), craftsp = set()):\n",
        "  amenity_specs = amensp\n",
        "  buildings_specs = buildsp\n",
        "  shop_specs = shopsp\n",
        "  leisure_specs = leisusp\n",
        "  craft_specs=craftsp\n",
        "  res=[]\n",
        "  for i in area_res:\n",
        "    f=0\n",
        "    if (lat<=i.lat<=latend and lon<=i.lon<=longend):\n",
        "      if 'amenity' in i.tags.keys():\n",
        "        if len(set([i.tags['amenity']]).intersection(amenity_specs))>0:\n",
        "          res.append(i)\n",
        "          f=1\n",
        "      elif not f and 'building' in i.tags.keys():\n",
        "        if len(buildings_specs.intersection(set([i.tags['building']])))>0:\n",
        "          res.append(i)\n",
        "          f=1\n",
        "      elif not f and 'shop' in i.tags.keys():\n",
        "        if len(shop_specs.intersection(set([i.tags['shop']])))>0:\n",
        "          res.append(i)\n",
        "          f=1\n",
        "      elif not f and 'leisure' in i.tags.keys():\n",
        "        if len(leisure_specs.intersection(set([i.tags['leisure']])))>0:\n",
        "          res.append(i)\n",
        "          f=1\n",
        "      elif not f and 'craft' in i.tags.keys():\n",
        "        if len(craft_specs.intersection(set([i.tags['craft']])))>0:\n",
        "          res.append(i)\n",
        "          f=1\n",
        "  return res"
      ],
      "execution_count": null,
      "outputs": []
    },
    {
      "cell_type": "code",
      "metadata": {
        "id": "ld-I3jidwWDy"
      },
      "source": [
        "data=pd.read_csv('data_with_metro.csv')\n",
        "data=data.drop(['Unnamed: 0'], axis=1)"
      ],
      "execution_count": null,
      "outputs": []
    },
    {
      "cell_type": "code",
      "metadata": {
        "colab": {
          "base_uri": "https://localhost:8080/",
          "height": 206
        },
        "id": "mTkm6nHVwcU8",
        "outputId": "34515d3a-d865-4962-c637-b62a0e0e1abc"
      },
      "source": [
        "data.head()"
      ],
      "execution_count": null,
      "outputs": [
        {
          "output_type": "execute_result",
          "data": {
            "text/html": [
              "<div>\n",
              "<style scoped>\n",
              "    .dataframe tbody tr th:only-of-type {\n",
              "        vertical-align: middle;\n",
              "    }\n",
              "\n",
              "    .dataframe tbody tr th {\n",
              "        vertical-align: top;\n",
              "    }\n",
              "\n",
              "    .dataframe thead th {\n",
              "        text-align: right;\n",
              "    }\n",
              "</style>\n",
              "<table border=\"1\" class=\"dataframe\">\n",
              "  <thead>\n",
              "    <tr style=\"text-align: right;\">\n",
              "      <th></th>\n",
              "      <th>lat</th>\n",
              "      <th>long</th>\n",
              "      <th>people</th>\n",
              "      <th>weekend_mean</th>\n",
              "      <th>workdays_mean</th>\n",
              "      <th>day_mean</th>\n",
              "      <th>night_mean</th>\n",
              "      <th>metro</th>\n",
              "      <th>metro_dist</th>\n",
              "    </tr>\n",
              "  </thead>\n",
              "  <tbody>\n",
              "    <tr>\n",
              "      <th>0</th>\n",
              "      <td>(55.655, 55.658]</td>\n",
              "      <td>(37.495, 37.503]</td>\n",
              "      <td>0.0</td>\n",
              "      <td>0.0</td>\n",
              "      <td>0.0</td>\n",
              "      <td>0.0</td>\n",
              "      <td>0.0</td>\n",
              "      <td>Юго-западная</td>\n",
              "      <td>0.016882</td>\n",
              "    </tr>\n",
              "    <tr>\n",
              "      <th>1</th>\n",
              "      <td>(55.655, 55.658]</td>\n",
              "      <td>(37.503, 37.51]</td>\n",
              "      <td>0.0</td>\n",
              "      <td>0.0</td>\n",
              "      <td>0.0</td>\n",
              "      <td>0.0</td>\n",
              "      <td>0.0</td>\n",
              "      <td>Проспект Вернадского</td>\n",
              "      <td>0.019732</td>\n",
              "    </tr>\n",
              "    <tr>\n",
              "      <th>2</th>\n",
              "      <td>(55.655, 55.658]</td>\n",
              "      <td>(37.51, 37.518]</td>\n",
              "      <td>0.0</td>\n",
              "      <td>0.0</td>\n",
              "      <td>0.0</td>\n",
              "      <td>0.0</td>\n",
              "      <td>0.0</td>\n",
              "      <td>Беляево</td>\n",
              "      <td>0.018684</td>\n",
              "    </tr>\n",
              "    <tr>\n",
              "      <th>3</th>\n",
              "      <td>(55.655, 55.658]</td>\n",
              "      <td>(37.518, 37.526]</td>\n",
              "      <td>0.0</td>\n",
              "      <td>0.0</td>\n",
              "      <td>0.0</td>\n",
              "      <td>0.0</td>\n",
              "      <td>0.0</td>\n",
              "      <td>Беляево</td>\n",
              "      <td>0.013970</td>\n",
              "    </tr>\n",
              "    <tr>\n",
              "      <th>4</th>\n",
              "      <td>(55.655, 55.658]</td>\n",
              "      <td>(37.526, 37.533]</td>\n",
              "      <td>0.0</td>\n",
              "      <td>0.0</td>\n",
              "      <td>0.0</td>\n",
              "      <td>0.0</td>\n",
              "      <td>0.0</td>\n",
              "      <td>Калужская</td>\n",
              "      <td>0.009766</td>\n",
              "    </tr>\n",
              "  </tbody>\n",
              "</table>\n",
              "</div>"
            ],
            "text/plain": [
              "                lat              long  ...                 metro  metro_dist\n",
              "0  (55.655, 55.658]  (37.495, 37.503]  ...          Юго-западная    0.016882\n",
              "1  (55.655, 55.658]   (37.503, 37.51]  ...  Проспект Вернадского    0.019732\n",
              "2  (55.655, 55.658]   (37.51, 37.518]  ...               Беляево    0.018684\n",
              "3  (55.655, 55.658]  (37.518, 37.526]  ...               Беляево    0.013970\n",
              "4  (55.655, 55.658]  (37.526, 37.533]  ...             Калужская    0.009766\n",
              "\n",
              "[5 rows x 9 columns]"
            ]
          },
          "metadata": {
            "tags": []
          },
          "execution_count": 8
        }
      ]
    },
    {
      "cell_type": "code",
      "metadata": {
        "id": "Ibs1a7ZWxzPD"
      },
      "source": [
        "newdata=pd.DataFrame(np.zeros(data.shape[0]))"
      ],
      "execution_count": null,
      "outputs": []
    },
    {
      "cell_type": "code",
      "metadata": {
        "id": "Z88aMrE2yc78"
      },
      "source": [
        ""
      ],
      "execution_count": null,
      "outputs": []
    },
    {
      "cell_type": "code",
      "metadata": {
        "id": "Ao6GLJ9jznmR"
      },
      "source": [
        "data111={'butcher':[],'bakery':[],'shop':[], 'cafe':[],\n",
        "         'drinking':[], 'clinic':[], 'vets':[], 'dentist':[],\n",
        "         'chemist':[], 'pharmacy':[], 'florist':[], 'hairdresser':[],\n",
        "         'spa':[],'fixer':[],'photo':[], 'tobacco':[]}"
      ],
      "execution_count": null,
      "outputs": []
    },
    {
      "cell_type": "code",
      "metadata": {
        "id": "NQjTsUo1298j"
      },
      "source": [
        "from tqdm import tqdm_notebook"
      ],
      "execution_count": null,
      "outputs": []
    },
    {
      "cell_type": "code",
      "metadata": {
        "colab": {
          "background_save": true,
          "base_uri": "https://localhost:8080/",
          "height": 124,
          "referenced_widgets": [
            "927056aa7a7441c1af27a926b4cf5120",
            "6049d1b3e173422686349328cfc5c980",
            "b56e1f4c4ef24354ab1a359d7281c4dc",
            "2d26515168964da0b1cad83916ff1a8c",
            "6c366a4ffdf2479bbbeeac48cab61733",
            "ff9c5daced37456eb7aaa48415946365",
            "805ac12771c24a2f81534a6c5ea0b970",
            "a41275d65a6845639c42882d2b36f3a4"
          ]
        },
        "id": "MdLDgZ_-rqKp",
        "outputId": "5358237f-2fbd-4807-803d-f2eb9d90877b"
      },
      "source": [
        "for i in tqdm_notebook(range(data.shape[0])):\n",
        "  a=list(map(float,data.lat[i][1:-1].split(',')))\n",
        "  b=list(map(float,data.long[i][1:-1].split(',')))\n",
        "  latc=a[0]\n",
        "  latend=a[1]\n",
        "  longc=b[0]\n",
        "  longend=b[1]\n",
        "  # ФУД РИТЕЙЛ \n",
        "  # Мясо\n",
        "  sh_prm = {'butcher'}\n",
        "  data111['butcher'].append(len(OSMGetData(area_res,latc,longc,latend,longend, shopsp = sh_prm)))\n",
        "  # Булочная\n",
        "  sh_prm = {'bakery'}\n",
        "  data111['bakery'].append(len(OSMGetData(area_res,latc,longc,latend,longend, shopsp = sh_prm)))\n",
        "  # Остальное\n",
        "  sh_prm = {'supermarket', 'convenience'}\n",
        "  bld_prm = {'store', 'retail'}\n",
        "  data111['shop'].append(len(OSMGetData(area_res,latc,longc,latend,longend, shopsp = sh_prm)))\n",
        "\n",
        "  # РЕСТОРАНЫ\n",
        "  # Кафе/Рестораны\n",
        "  am_prm = {'cafe', 'restaurant','fast_food', 'food_court'}\n",
        "  data111['cafe'].append(len(OSMGetData(area_res,latc,longc,latend,longend, am_prm)))\n",
        "  # Клубы/Бары\n",
        "  am_prm = {'bar', 'biergarten',  'pub', 'nightclub', 'stripclub'}\n",
        "  data111['drinking'].append(len(OSMGetData(area_res,latc,longc,latend,longend, am_prm, sh_prm, bld_prm)))\n",
        "\n",
        "  # МЕД УСЛУГИ\n",
        "  # Клиника\n",
        "  am_prm = {'clinic'}\n",
        "  data111['clinic'].append(len(OSMGetData(area_res,latc,longc,latend,longend, am_prm)))\n",
        "  # Вет клиника\n",
        "  am_prm = {'veterinary'}\n",
        "  data111['vets'].append(len(OSMGetData(area_res,latc,longc,latend,longend, am_prm)))\n",
        "  # Стоматология\n",
        "  am_prm = {'dentist'}\n",
        "  data111['dentist'].append(len(OSMGetData(area_res,latc,longc,latend,longend, am_prm)))\n",
        "\n",
        "  # МАГАЗИНЫ\n",
        "  # Товары для дома\n",
        "  sh_prm = {'houseware', 'cosmetics', 'chemist', 'stationery'}\n",
        "  data111['chemist'].append(len(OSMGetData(area_res,latc,longc,latend,longend, shopsp = sh_prm)))\n",
        "  # Аптека\n",
        "  am_prm = {'pharmacy'}\n",
        "  data111['pharmacy'].append(len(OSMGetData(area_res,latc,longc,latend,longend, am_prm)))\n",
        "  # Цветочный\n",
        "  sh_prm = {'florist'}\n",
        "  data111['florist'].append(len(OSMGetData(area_res,latc,longc,latend,longend, shopsp=sh_prm)))\n",
        "\n",
        "  # САЛОНЫ\n",
        "  # Парикмахерская\n",
        "  sh_prm = {'hairdresser'}\n",
        "  data111['hairdresser'].append(len(OSMGetData(area_res,latc,longc,latend,longend, shopsp = sh_prm)))\n",
        "  # Салон красоты\n",
        "  am_prm ={'sauna'}\n",
        "  sh_prm = {'beauty','massage'}\n",
        "  le_prm={'sauna','tanning_salon'}\n",
        "  data111['spa'].append(len(OSMGetData(area_res,latc,longc,latend,longend, am_prm, sh_prm, leisusp = le_prm)))\n",
        "\n",
        "  # УСЛУГИ + ТОРГОВЛЯ\n",
        "  # Ремонт\n",
        "  craft_prm = {'watchmaker', 'electronics_repair'}\n",
        "  data111['fixer'].append(len(OSMGetData(area_res,latc,longc,latend,longend, craftsp = craft_prm)))\n",
        "  # Фотоателье\n",
        "  sh_prm = {'photo', 'photo_studio'}\n",
        "  craft_prm = {'photographer'}\n",
        "  data111['photo'].append(len(OSMGetData(area_res,latc,longc,latend,longend, shopsp = sh_prm, craftsp = craft_prm)))\n",
        "  # Табачка\n",
        "  sh_prm = {'tobacco'}\n",
        "  data111['tobacco'].append(len(OSMGetData(area_res,latc,longc,latend,longend, shopsp = sh_prm)))"
      ],
      "execution_count": null,
      "outputs": [
        {
          "output_type": "stream",
          "text": [
            "/usr/local/lib/python3.7/dist-packages/ipykernel_launcher.py:1: TqdmDeprecationWarning: This function will be removed in tqdm==5.0.0\n",
            "Please use `tqdm.notebook.tqdm` instead of `tqdm.tqdm_notebook`\n",
            "  \"\"\"Entry point for launching an IPython kernel.\n"
          ],
          "name": "stderr"
        },
        {
          "output_type": "display_data",
          "data": {
            "application/vnd.jupyter.widget-view+json": {
              "model_id": "927056aa7a7441c1af27a926b4cf5120",
              "version_major": 2,
              "version_minor": 0
            },
            "text/plain": [
              "HBox(children=(FloatProgress(value=0.0, max=1296.0), HTML(value='')))"
            ]
          },
          "metadata": {
            "tags": []
          }
        }
      ]
    },
    {
      "cell_type": "code",
      "metadata": {
        "id": "teG3KnV9rt26",
        "colab": {
          "base_uri": "https://localhost:8080/",
          "height": 171
        },
        "outputId": "7dff30ac-5f41-416d-8f58-3d3c00b2a635"
      },
      "source": [
        "data111"
      ],
      "execution_count": 1,
      "outputs": [
        {
          "output_type": "error",
          "ename": "NameError",
          "evalue": "ignored",
          "traceback": [
            "\u001b[0;31m---------------------------------------------------------------------------\u001b[0m",
            "\u001b[0;31mNameError\u001b[0m                                 Traceback (most recent call last)",
            "\u001b[0;32m<ipython-input-1-2ef3d3163828>\u001b[0m in \u001b[0;36m<module>\u001b[0;34m()\u001b[0m\n\u001b[0;32m----> 1\u001b[0;31m \u001b[0mdata111\u001b[0m\u001b[0;34m\u001b[0m\u001b[0;34m\u001b[0m\u001b[0m\n\u001b[0m",
            "\u001b[0;31mNameError\u001b[0m: name 'data111' is not defined"
          ]
        }
      ]
    },
    {
      "cell_type": "code",
      "metadata": {
        "id": "JO5TNV3LqFwD"
      },
      "source": [
        "import pickle"
      ],
      "execution_count": null,
      "outputs": []
    },
    {
      "cell_type": "code",
      "metadata": {
        "id": "SW-qUC3N81rF"
      },
      "source": [
        "with open('dump.pkl','wb') as f:\n",
        "  pickle.dump(data111,f)"
      ],
      "execution_count": null,
      "outputs": []
    },
    {
      "cell_type": "code",
      "metadata": {
        "id": "tXTe6uBO9OQ6"
      },
      "source": [
        ""
      ],
      "execution_count": null,
      "outputs": []
    }
  ]
}