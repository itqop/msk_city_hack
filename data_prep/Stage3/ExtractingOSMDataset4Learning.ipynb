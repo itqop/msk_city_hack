{
  "nbformat": 4,
  "nbformat_minor": 0,
  "metadata": {
    "colab": {
      "name": "ExtractingOSMDataset4Learning.ipynb",
      "provenance": []
    },
    "kernelspec": {
      "name": "python3",
      "display_name": "Python 3"
    },
    "language_info": {
      "name": "python"
    }
  },
  "cells": [
    {
      "cell_type": "code",
      "metadata": {
        "id": "ahlY9CiLChmw"
      },
      "source": [
        "mn1,mn2,mx1,mx2=55.655155181884766, 37.49541473388672, 55.753211975097656, 37.75920104980469"
      ],
      "execution_count": null,
      "outputs": []
    },
    {
      "cell_type": "code",
      "metadata": {
        "id": "lZ8FmXmYrUj5"
      },
      "source": [
        "import numpy as np\n",
        "import pandas as pd"
      ],
      "execution_count": null,
      "outputs": []
    },
    {
      "cell_type": "code",
      "metadata": {
        "id": "2w482590rIxK"
      },
      "source": [
        "range_lat=np.arange(55.655155, 55.753211975097656+0.0028016226632254465, 0.0028016226632254465)\n",
        "range_long=np.arange(37.49541473388672, 37.75920104980469+0.007536751883370536, 0.007536751883370536)"
      ],
      "execution_count": null,
      "outputs": []
    },
    {
      "cell_type": "code",
      "metadata": {
        "colab": {
          "base_uri": "https://localhost:8080/"
        },
        "id": "z_Q73X5fuYNa",
        "outputId": "71e93888-560d-4b9f-a324-e68b3eaab645"
      },
      "source": [
        "!pip install  overpy"
      ],
      "execution_count": null,
      "outputs": [
        {
          "output_type": "stream",
          "text": [
            "Requirement already satisfied: overpy in /usr/local/lib/python3.7/dist-packages (0.6)\n"
          ],
          "name": "stdout"
        }
      ]
    },
    {
      "cell_type": "code",
      "metadata": {
        "id": "IcL4LQ4brgjk"
      },
      "source": [
        "import overpy\n",
        "api = overpy.Overpass()\n",
        "\n",
        "def getarea(lat, lon, latend, lonend):\n",
        "    coord = f\"{lat},{lon},{latend},{lonend}\"\n",
        "    #[out:json];\n",
        "    string = f\"\"\"node({coord}); out;\n",
        "    \"\"\"\n",
        "\n",
        "    data = api.query(string)\n",
        "    return data.nodes\n",
        "\n",
        "#https://wiki.openstreetmap.org/wiki/RU:%D0%9A%D0%B0%D0%BA_%D0%BE%D0%B1%D0%BE%D0%B7%D0%BD%D0%B0%D1%87%D0%B8%D1%82%D1%8C\n",
        "# Пример вывода данных\n",
        "# zone = getarea()\n",
        "# for node in zone:\n",
        "#     if 'amenity' in node.tags:\n",
        "#         print(f\"amen= {node.tags['amenity']}\")\n",
        "#     if 'shop' in node.tags:\n",
        "#         print(f\"shop= {node.tags['shop']}\")\n",
        "#     print(f\"lon= {node.lon} lat={node.lat} \")"
      ],
      "execution_count": null,
      "outputs": []
    },
    {
      "cell_type": "code",
      "metadata": {
        "id": "WRytTJuDwnlI"
      },
      "source": [
        "shift_lat=range_lat[1]-range_lat[0]\n",
        "shift_long=range_long[1]-range_long[0]"
      ],
      "execution_count": null,
      "outputs": []
    },
    {
      "cell_type": "code",
      "metadata": {
        "id": "CpkOLBK-x168"
      },
      "source": [
        "import time"
      ],
      "execution_count": null,
      "outputs": []
    },
    {
      "cell_type": "code",
      "metadata": {
        "id": "7LRghfS2usyc"
      },
      "source": [
        "area_res=getarea(mn1,mn2,mx1,mx2)"
      ],
      "execution_count": null,
      "outputs": []
    },
    {
      "cell_type": "code",
      "metadata": {
        "id": "nwm9u6BEwcTD"
      },
      "source": [
        "def newarea(area_res, lat, lon, latend, longend):\n",
        "  res=[]\n",
        "  for i in area_res:\n",
        "    if (lat<=i.lat<=latend and lon<=i.lon<=longend) and 'amenity' in i.tags.keys():\n",
        "      res.append(i)\n",
        "  return res"
      ],
      "execution_count": 70,
      "outputs": []
    },
    {
      "cell_type": "code",
      "metadata": {
        "id": "VmSQbOg-6hpM"
      },
      "source": [
        "b=newarea(area_res, range_lat[0], range_long[0], range_lat[1], range_long[1])"
      ],
      "execution_count": 71,
      "outputs": []
    },
    {
      "cell_type": "code",
      "metadata": {
        "colab": {
          "base_uri": "https://localhost:8080/"
        },
        "id": "Y1tD_0FabhtD",
        "outputId": "9dbd9bc7-4f67-4b2e-c293-faa641fd12ae"
      },
      "source": [
        "for i in b:\n",
        "  print(i.tags)\n",
        "\n"
      ],
      "execution_count": 72,
      "outputs": [
        {
          "output_type": "stream",
          "text": [
            "{'amenity': 'atm', 'cash_in': 'yes', 'description': 'Банкомат ДО «Ленинский»', 'opening_hours': '24/7', 'operator': 'ЗАО \"ЮниКредит Банк\"'}\n",
            "{'amenity': 'restaurant', 'contact:phone': '+7 495 4380000', 'name': 'Тимур', 'opening_hours': 'Mo-Su 11:00-05:00'}\n",
            "{'amenity': 'clinic', 'contact:phone': '+7 495 6041010', 'contact:website': 'http://www.stomed.ru', 'description': 'Для обследования требуют паспортные данные, номер моб. телефона и согласие на обработку персональных данных. На вопрос \"будут ли данные переданы третьим лицам\" отвечают \"именно для этого мы их и спрашиваем\".', 'healthcare': 'centre', 'name': 'Столица', 'opening_hours': 'Mo-Fr 08:00-16:00'}\n",
            "{'amenity': 'driving_school', 'contact:phone': '+7 495 9703012', 'contact:website': 'http://www.avtostrela.ru', 'education': 'courses', 'education_form:parttime': 'yes', 'education_level:primary': 'yes', 'education_profile:driving': 'yes', 'education_system:ru_standard': 'yes', 'name': 'Стрела'}\n",
            "{'amenity': 'bicycle_rental', 'capacity': '12', 'capacity:electric': '0', 'contact:email': 'info@velobike.ru', 'contact:phone': '+7 495 9664669', 'contact:website': 'https://velobike.ru/', 'fee': 'yes', 'network': 'Велобайк', 'opening_hours': '24/7', 'operator': 'АО «СитиБайк»', 'payment:cash': 'no', 'payment:mastercard': 'yes', 'payment:troika': 'no', 'payment:visa': 'yes', 'ref': '389', 'seasonal': 'yes'}\n",
            "{'amenity': 'restaurant'}\n",
            "{'amenity': 'restaurant', 'cuisine': 'african;ethiopian', 'internet_access': 'wlan', 'name': 'Авеню', 'name:en': 'Avenue', 'opening_hours': 'Mo-Su 11:00-01:00', 'phone': '+7 926 6051644', 'website': 'https://vk.com/club3607922'}\n",
            "{'amenity': 'post_box'}\n",
            "{'amenity': 'dentist', 'name': 'Деликатная стоматология'}\n",
            "{'amenity': 'bicycle_parking'}\n",
            "{'addr:city': 'Москва', 'addr:housenumber': '113/1', 'addr:street': 'Ленинский проспект', 'amenity': 'training', 'contact:facebook': 'https://www.facebook.com/piruet.msk', 'contact:instagram': 'https://www.instagram.com/sc_pirouette/', 'contact:vk': 'https://vk.com/pirouette_rg', 'description': 'Школа художественной гимнастики Pirouette', 'education': 'facultative_school', 'education_form:parttime': 'yes', 'education_level:primary': 'yes', 'education_profile:sport': 'yes', 'name': 'Pirouette', 'phone': '+7 (499) 136-81-80', 'training': 'sport', 'website': 'http://piruet-msk.ru'}\n",
            "{'amenity': 'bank', 'contact:email': 'unicredit@unicredit.ru', 'contact:phone': '+7 495 2587200;+7 800 7001020', 'contact:twitter': 'https://twitter.com/unicreditrussia', 'contact:vk': 'https://vk.com/unicreditbank', 'contact:website': 'https://www.unicreditbank.ru/', 'contact:youtube': 'https://www.youtube.com/user/unicreditbankrussia', 'name': 'ЮниКредит Банк', 'opening_hours': 'Mo-Fr 10:00-20:00;Sa 10:00-17:00', 'operator': 'ЮниКредит Банк'}\n",
            "{'amenity': 'clinic', 'contact:email': 'lor146len@outlook.com', 'contact:instagram': 'https://instagram.com/lornalen', 'contact:phone': '+7 916 0906328', 'contact:website': 'https://www.lornalen.ru/', 'name': 'Лор-клиника на Ленинском', 'opening_hours': 'Mo-Sa 09:00-21:00;Su 10:00-20:00', 'operator': 'Лор-клиника на Ленинском'}\n"
          ],
          "name": "stdout"
        }
      ]
    },
    {
      "cell_type": "code",
      "execution_count": null,
      "metadata": {},
      "outputs": [],
      "source": [
        "def OSMGetData(area_res, lat, lon, latend, longend, amensp = set(), shopsp = set(), buildsp = set(), leisusp = set(), craftsp = set()):\n",
        "  amenity_specs = amensp\n",
        "  buildings_specs = buildsp\n",
        "  shop_specs = shopsp\n",
        "  leisure_specs = leisusp\n",
        "  res=[]\n",
        "  for i in area_res:\n",
        "    f=0\n",
        "    if (lat<=i.lat<=latend and lon<=i.lon<=longend):\n",
        "      if 'amenity' in i.tags.keys():\n",
        "        if len(set([i.tags['amenity']]).intersection(amenity_specs))>0:\n",
        "          res.append(i)\n",
        "          f=1\n",
        "      elif not f and 'building' in i.tags.keys():\n",
        "        if len(buildings_specs.intersection(set([i.tags['building']])))>0:\n",
        "          res.append(i)\n",
        "          f=1\n",
        "      elif not f and 'shop' in i.tags.keys():\n",
        "        if len(shop_specs.intersection(set([i.tags['shop']])))>0:\n",
        "          res.append(i)\n",
        "          f=1\n",
        "      elif not f and 'leisure' in i.tags.keys():\n",
        "        if len(leisure_specs.intersection(set([i.tags['leisure']])))>0:\n",
        "          res.append(i)\n",
        "          f=1\n",
        "      elif not f and 'craft' in i.tags.keys():\n",
        "        if len(leisure_specs.intersection(set([i.tags['craft']])))>0:\n",
        "          res.append(i)\n",
        "          f=1\n",
        "  return res"
      ]
    },
    {
      "cell_type": "code",
      "execution_count": null,
      "metadata": {},
      "outputs": [],
      "source": [
        "# ФУД РИТЕЙЛ \n",
        "# Мясо\n",
        "sh_prm = {'butcher'}\n",
        "OSMGetData(area_res,mn1,mn2,mx1,mx2, shop_sp = sh_prm)[0].tags\n",
        "# Булочная\n",
        "sh_prm = {'bakery'}\n",
        "OSMGetData(area_res,mn1,mn2,mx1,mx2, shop_sp = sh_prm)[0].tags\n",
        "# Остальное\n",
        "sh_prm = {'supermarket', 'convenience'}\n",
        "bld_prm = {'store', 'retail'}\n",
        "OSMGetData(area_res,mn1,mn2,mx1,mx2, shop_sp = sh_prm)[0].tags\n",
        "\n",
        "# РЕСТОРАНЫ\n",
        "# Кафе/Рестораны\n",
        "am_prm = {'cafe', 'restaurant','fast_food', 'food_court'}\n",
        "OSMGetData(area_res,mn1,mn2,mx1,mx2, am_prm)[0].tags\n",
        "# Клубы/Бары\n",
        "am_prm = {'bar', 'biergarten',  'pub', 'nightclub', 'stripclub'}\n",
        "OSMGetData(area_res,mn1,mn2,mx1,mx2, am_prm, sh_prm, bld_prm, le_prm)[0].tags\n",
        "\n",
        "# МЕД УСЛУГИ\n",
        "# Клиника\n",
        "am_prm = {'clinic'}\n",
        "OSMGetData(area_res,mn1,mn2,mx1,mx2, am_prm)[0].tags\n",
        "# Вет клиника\n",
        "am_prm = {'veterinary'}\n",
        "OSMGetData(area_res,mn1,mn2,mx1,mx2, am_prm)[0].tags\n",
        "# Стоматология\n",
        "am_prm = {'dentist'}\n",
        "OSMGetData(area_res,mn1,mn2,mx1,mx2, am_prm)[0].tags\n",
        "\n",
        "# МАГАЗИНЫ\n",
        "# Товары для дома\n",
        "sh_prm = {'houseware', 'cosmetics', 'chemist', 'stationery'}\n",
        "OSMGetData(area_res,mn1,mn2,mx1,mx2, shop_sp = sh_prm)[0].tags\n",
        "# Аптека\n",
        "sh_prm = {'pharmacy'}\n",
        "OSMGetData(area_res,mn1,mn2,mx1,mx2, shop_sp = sh_prm)[0].tags\n",
        "# Цветочный\n",
        "sh_prm = {'florist'}\n",
        "OSMGetData(area_res,mn1,mn2,mx1,mx2, shop_sp = sh_prm)[0].tags\n",
        "\n",
        "# САЛОНЫ\n",
        "# Парикмахерская\n",
        "sh_prm = {'hairdresser'}\n",
        "OSMGetData(area_res,mn1,mn2,mx1,mx2, shop_sp = sh_prm)[0].tags\n",
        "# Салон красоты\n",
        "am_prm ={'sauna'}\n",
        "sh_prm = {'beauty', 'hairdresser','massage'}\n",
        "le_prm={'sauna','tanning_salon'}\n",
        "OSMGetData(area_res,mn1,mn2,mx1,mx2, am_prm, sh_prm, leisusp = le_prm)[0].tags\n",
        "\n",
        "# УСЛУГИ + ТОРГОВЛЯ\n",
        "# Ремонт\n",
        "craft_prm = {'watchmaker', 'electronics_repair'}\n",
        "OSMGetData(area_res,mn1,mn2,mx1,mx2, craftsp = craft_prm)[0].tags\n",
        "# Фотоателье\n",
        "sh_prm = {'photo', 'photo_studio'}\n",
        "craft_prm = {'photographer'}\n",
        "OSMGetData(area_res,mn1,mn2,mx1,mx2, shop_sp = sh_prm, craftsp = craft_prm)[0].tags\n",
        "# Табачка\n",
        "sh_prm = {'tobacco'}\n",
        "OSMGetData(area_res,mn1,mn2,mx1,mx2, shop_sp = sh_prm)[0].tags"
      ]
    },
    {
      "cell_type": "code",
      "metadata": {
        "id": "0h1oi3lIetDL"
      },
      "source": [
        "def foodretail(area_res, lat, lon, latend, longend):\n",
        "  amenity_specs=set()\n",
        "  buildings_specs={'store', 'retail'}\n",
        "  shop_specs={'supermarket', 'department_store','general'}\n",
        "  res=[]\n",
        "  for i in area_res:\n",
        "    f=0\n",
        "    if (lat<=i.lat<=latend and lon<=i.lon<=longend):\n",
        "      if 'amenity' in i.tags.keys():\n",
        "        if len(set([i.tags['amenity']]).intersection(amenity_specs))>0:\n",
        "          res.append(i)\n",
        "          f=1\n",
        "      elif not f and 'building' in i.tags.keys():\n",
        "        if len(buildings_specs.intersection(set([i.tags['building']])))>0:\n",
        "          res.append(i)\n",
        "          f=1\n",
        "      elif not f and 'shop' in i.tags.keys():\n",
        "        if len(shop_specs.intersection(set([i.tags['shop']])))>0:\n",
        "          res.append(i)\n",
        "          f=1\n",
        "  return res"
      ],
      "execution_count": 80,
      "outputs": []
    },
    {
      "cell_type": "code",
      "metadata": {
        "colab": {
          "base_uri": "https://localhost:8080/"
        },
        "id": "0c_HkKBmqH4M",
        "outputId": "d2ec041a-eff2-4da2-acc5-61429fc6e5f1"
      },
      "source": [
        "foodretail(area_res,mn1,mn2,mx1,mx2)[0].tags"
      ],
      "execution_count": 82,
      "outputs": [
        {
          "output_type": "execute_result",
          "data": {
            "text/plain": [
              "{'alt_name': 'Пятерочка',\n",
              " 'brand': 'Пятёрочка',\n",
              " 'brand:wikidata': 'Q1768969',\n",
              " 'brand:wikipedia': 'ru:Пятёрочка',\n",
              " 'contact:facebook': 'https://www.facebook.com/pyaterochka',\n",
              " 'contact:website': 'https://5ka.ru',\n",
              " 'name': 'Пятёрочка',\n",
              " 'name:en': 'Pyatyorochka',\n",
              " 'name:ru': 'Пятёрочка',\n",
              " 'opening_hours': 'Mo-Su 07:00-23:00',\n",
              " 'shop': 'supermarket'}"
            ]
          },
          "metadata": {
            "tags": []
          },
          "execution_count": 82
        }
      ]
    },
    {
      "cell_type": "code",
      "metadata": {
        "id": "IXqYslc6jsvb"
      },
      "source": [
        "def SPA(area_res, lat, lon, latend, longend):\n",
        "  amenity_specs={'sauna'}\n",
        "  leisure_specs={'sauna','tanning_salon'}\n",
        "  buildings_specs=set()\n",
        "  shop_specs={'beauty', 'hairdresser','massage'}\n",
        "  res=[]\n",
        "  for i in area_res:\n",
        "    f=0\n",
        "    if (lat<=i.lat<=latend and lon<=i.lon<=longend):\n",
        "      if 'amenity' in i.tags.keys():\n",
        "        if len(set([i.tags['amenity']]).intersection(amenity_specs))>0:\n",
        "          res.append(i)\n",
        "          f=1\n",
        "      elif not f and 'building' in i.tags.keys():\n",
        "        if len(buildings_specs.intersection(set([i.tags['building']])))>0:\n",
        "          res.append(i)\n",
        "          f=1\n",
        "      elif not f and 'shop' in i.tags.keys():\n",
        "        if len(shop_specs.intersection(set([i.tags['shop']])))>0:\n",
        "          res.append(i)\n",
        "          f=1\n",
        "      elif not f and 'leisure' in i.tags.keys():\n",
        "        if len(leisure_specs.intersection(set([i.tags['leisure']])))>0:\n",
        "          res.append(i)\n",
        "          f=1\n",
        "  return res"
      ],
      "execution_count": 84,
      "outputs": []
    },
    {
      "cell_type": "code",
      "metadata": {
        "colab": {
          "base_uri": "https://localhost:8080/"
        },
        "id": "Xn1Y6dCxuXWB",
        "outputId": "ef4d6ea0-44db-423e-bc1e-ee1d5f07e07b"
      },
      "source": [
        "SPA(area_res,mn1,mn2,mx1,mx2)[0].tags"
      ],
      "execution_count": 85,
      "outputs": [
        {
          "output_type": "execute_result",
          "data": {
            "text/plain": [
              "{'name': 'Белиссима',\n",
              " 'name:ru': 'Лантэкс центр',\n",
              " 'opening_hours': 'Mo-Fr 09:00-21:00; Sa-Su 10:00-20:00',\n",
              " 'phone': '+7 499 1796449',\n",
              " 'shop': 'hairdresser'}"
            ]
          },
          "metadata": {
            "tags": []
          },
          "execution_count": 85
        }
      ]
    },
    {
      "cell_type": "code",
      "metadata": {
        "id": "wJf2BDa8jzUM"
      },
      "source": [
        "#Рестораны, кафе, бары и ночные клубы\n",
        "def cafes(area_res, lat, lon, latend, longend):\n",
        "  amenity_specs={'bar', 'biergarten', 'cafe', 'restaurant', 'pub', 'nightclub', 'stripclub', 'fast_food', 'food_court'}\n",
        "  leisure_specs=set()\n",
        "  buildings_specs=set()\n",
        "  shop_specs=set()\n",
        "  res=[]\n",
        "  for i in area_res:\n",
        "    f=0\n",
        "    if (lat<=i.lat<=latend and lon<=i.lon<=longend):\n",
        "      if 'amenity' in i.tags.keys():\n",
        "        if len(set([i.tags['amenity']]).intersection(amenity_specs))>0:\n",
        "          res.append(i)\n",
        "          f=1\n",
        "      elif not f and 'building' in i.tags.keys():\n",
        "        if len(buildings_specs.intersection(set([i.tags['building']])))>0:\n",
        "          res.append(i)\n",
        "          f=1\n",
        "      elif not f and 'shop' in i.tags.keys():\n",
        "        if len(shop_specs.intersection(set([i.tags['shop']])))>0:\n",
        "          res.append(i)\n",
        "          f=1\n",
        "      elif not f and 'leisure' in i.tags.keys():\n",
        "        if len(leisure_specs.intersection(set([i.tags['leisure']])))>0:\n",
        "          res.append(i)\n",
        "          f=1\n",
        "  return res"
      ],
      "execution_count": 86,
      "outputs": []
    },
    {
      "cell_type": "code",
      "metadata": {
        "colab": {
          "base_uri": "https://localhost:8080/"
        },
        "id": "K56PJOEcwTkG",
        "outputId": "d602e04c-2c4d-4603-db93-09272ad700dc"
      },
      "source": [
        "cafes(area_res,mn1,mn2,mx1,mx2)[0].tags"
      ],
      "execution_count": 87,
      "outputs": [
        {
          "output_type": "execute_result",
          "data": {
            "text/plain": [
              "{'alt_name': 'Kentucky Fried Chicken',\n",
              " 'amenity': 'fast_food',\n",
              " 'brand': 'KFC',\n",
              " 'brand:wikidata': 'Q524757',\n",
              " 'brand:wikipedia': 'en:KFC',\n",
              " 'cuisine': 'chicken',\n",
              " 'level': '3',\n",
              " 'name': 'KFC',\n",
              " 'takeaway': 'yes'}"
            ]
          },
          "metadata": {
            "tags": []
          },
          "execution_count": 87
        }
      ]
    },
    {
      "cell_type": "code",
      "metadata": {
        "id": "r7wiaEoMj3Gj"
      },
      "source": [
        "#4. Бытовая химия, магазины косметики и т.п.\n",
        "def chemist(area_res, lat, lon, latend, longend):\n",
        "  amenity_specs=set()\n",
        "  leisure_specs=set()\n",
        "  buildings_specs=set()\n",
        "  shop_specs={'chemist', 'cosmetics', 'hairdresser_supply', 'perfumery'}\n",
        "  res=[]\n",
        "  for i in area_res:\n",
        "    f=0\n",
        "    if (lat<=i.lat<=latend and lon<=i.lon<=longend):\n",
        "      if 'amenity' in i.tags.keys():\n",
        "        if len(set([i.tags['amenity']]).intersection(amenity_specs))>0:\n",
        "          res.append(i)\n",
        "          f=1\n",
        "      elif not f and 'building' in i.tags.keys():\n",
        "        if len(buildings_specs.intersection(set([i.tags['building']])))>0:\n",
        "          res.append(i)\n",
        "          f=1\n",
        "      elif not f and 'shop' in i.tags.keys():\n",
        "        if len(shop_specs.intersection(set([i.tags['shop']])))>0:\n",
        "          res.append(i)\n",
        "          f=1\n",
        "      elif not f and 'leisure' in i.tags.keys():\n",
        "        if len(leisure_specs.intersection(set([i.tags['leisure']])))>0:\n",
        "          res.append(i)\n",
        "          f=1\n",
        "  return res"
      ],
      "execution_count": 88,
      "outputs": []
    },
    {
      "cell_type": "code",
      "metadata": {
        "colab": {
          "base_uri": "https://localhost:8080/"
        },
        "id": "n62S3zB2x5bg",
        "outputId": "08450ef1-f9ed-42c8-a76f-9bfb5b91fa6e"
      },
      "source": [
        "chemist(area_res,mn1,mn2,mx1,mx2)[0].tags"
      ],
      "execution_count": 89,
      "outputs": [
        {
          "output_type": "execute_result",
          "data": {
            "text/plain": [
              "{'addr:housenumber': '4',\n",
              " 'addr:street': 'Университетский проспект',\n",
              " 'contact:website': 'http://www.ugdvor.ru',\n",
              " 'name': 'Южный двор',\n",
              " 'opening_hours': 'Mo-Su 09:00-22:00',\n",
              " 'shop': 'chemist'}"
            ]
          },
          "metadata": {
            "tags": []
          },
          "execution_count": 89
        }
      ]
    },
    {
      "cell_type": "code",
      "metadata": {
        "id": "JswDAJ5dj4kw"
      },
      "source": [
        "#5. Клиники, стоматологии, вет.клиники\n",
        "def meds(area_res, lat, lon, latend, longend):\n",
        "  amenity_specs={'veterinary', 'clinic', 'dentist'}\n",
        "  leisure_specs=set()\n",
        "  buildings_specs=set()\n",
        "  shop_specs=set()\n",
        "  res=[]\n",
        "  for i in area_res:\n",
        "    f=0\n",
        "    if (lat<=i.lat<=latend and lon<=i.lon<=longend):\n",
        "      if 'amenity' in i.tags.keys():\n",
        "        if len(set([i.tags['amenity']]).intersection(amenity_specs))>0:\n",
        "          res.append(i)\n",
        "          f=1\n",
        "      elif not f and 'building' in i.tags.keys():\n",
        "        if len(buildings_specs.intersection(set([i.tags['building']])))>0:\n",
        "          res.append(i)\n",
        "          f=1\n",
        "      elif not f and 'shop' in i.tags.keys():\n",
        "        if len(shop_specs.intersection(set([i.tags['shop']])))>0:\n",
        "          res.append(i)\n",
        "          f=1\n",
        "      elif not f and 'leisure' in i.tags.keys():\n",
        "        if len(leisure_specs.intersection(set([i.tags['leisure']])))>0:\n",
        "          res.append(i)\n",
        "          f=1\n",
        "  return res"
      ],
      "execution_count": 90,
      "outputs": []
    },
    {
      "cell_type": "code",
      "metadata": {
        "colab": {
          "base_uri": "https://localhost:8080/"
        },
        "id": "2lsEGwDw83zL",
        "outputId": "10cd7a70-fcce-41c8-8b63-23baa7a038fe"
      },
      "source": [
        "meds(area_res,mn1,mn2,mx1,mx2)[3].tags"
      ],
      "execution_count": 95,
      "outputs": [
        {
          "output_type": "execute_result",
          "data": {
            "text/plain": [
              "{'addr:housenumber': '10Б',\n",
              " 'addr:street': 'улица Академика Челомея',\n",
              " 'amenity': 'clinic',\n",
              " 'health_facility:type': 'clinic',\n",
              " 'healthcare': 'clinic',\n",
              " 'name': 'Прима Медика',\n",
              " 'name:en': 'Prima Medica',\n",
              " 'phone': '+7 495 2582559',\n",
              " 'website': 'https://www.primamedica.ru/'}"
            ]
          },
          "metadata": {
            "tags": []
          },
          "execution_count": 95
        }
      ]
    },
    {
      "cell_type": "code",
      "metadata": {
        "id": "EhvQ_A14j5xc"
      },
      "source": [
        "#6. Услуги (кофе на вынос, ремонт обуви и ювелирных изделий) и мелкая торговля (фото, пресса, мороженое).\n",
        "def small(area_res, lat, lon, latend, longend):\n",
        "  amenity_specs=set()\n",
        "  leisure_specs=set()\n",
        "  buildings_specs={'kiosk'}\n",
        "  shop_specs={'newsagent', 'convinience'}\n",
        "  res=[]\n",
        "  for i in area_res:\n",
        "    f=0\n",
        "    if (lat<=i.lat<=latend and lon<=i.lon<=longend):\n",
        "      if 'amenity' in i.tags.keys():\n",
        "        if len(set([i.tags['amenity']]).intersection(amenity_specs))>0:\n",
        "          res.append(i)\n",
        "          f=1\n",
        "      elif not f and 'building' in i.tags.keys():\n",
        "        if len(buildings_specs.intersection(set([i.tags['building']])))>0:\n",
        "          res.append(i)\n",
        "          f=1\n",
        "      elif not f and 'building:levels' in i.tags.keys() and i.tags['building:levels']=='1':\n",
        "        res.append(i)\n",
        "        f=1\n",
        "      elif not f and 'shop' in i.tags.keys():\n",
        "        if len(shop_specs.intersection(set([i.tags['shop']])))>0:\n",
        "          res.append(i)\n",
        "          f=1\n",
        "      elif not f and 'leisure' in i.tags.keys():\n",
        "        if len(leisure_specs.intersection(set([i.tags['leisure']])))>0:\n",
        "          res.append(i)\n",
        "          f=1\n",
        "  return res"
      ],
      "execution_count": 98,
      "outputs": []
    },
    {
      "cell_type": "code",
      "metadata": {
        "colab": {
          "base_uri": "https://localhost:8080/"
        },
        "id": "UpDjCfgH-Sqm",
        "outputId": "b8692854-b761-4db5-d1fa-05a299e808fc"
      },
      "source": [
        "small(area_res,mn1,mn2,mx1,mx2)[3].tags"
      ],
      "execution_count": 99,
      "outputs": [
        {
          "output_type": "execute_result",
          "data": {
            "text/plain": [
              "{'building': 'kiosk', 'building:levels': '1', 'shop': 'newsagent'}"
            ]
          },
          "metadata": {
            "tags": []
          },
          "execution_count": 99
        }
      ]
    },
    {
      "cell_type": "code",
      "metadata": {
        "id": "RR0K1g6D-Vao"
      },
      "source": [],
      "execution_count": null,
      "outputs": []
    }
  ]
}