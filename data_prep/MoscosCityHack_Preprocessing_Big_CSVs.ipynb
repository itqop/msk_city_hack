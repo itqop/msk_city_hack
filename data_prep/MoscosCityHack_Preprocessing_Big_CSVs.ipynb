{
  "nbformat": 4,
  "nbformat_minor": 0,
  "metadata": {
    "colab": {
      "name": "MoscosCityHack_Preprocessing_Big_CSVs.ipynb",
      "provenance": []
    },
    "kernelspec": {
      "name": "python3",
      "display_name": "Python 3"
    },
    "language_info": {
      "name": "python"
    }
  },
  "cells": [
    {
      "cell_type": "code",
      "metadata": {
        "id": "dbVDP7UBETWr"
      },
      "source": [
        "path='drive/MyDrive/mch/'"
      ],
      "execution_count": 1,
      "outputs": []
    },
    {
      "cell_type": "code",
      "metadata": {
        "colab": {
          "base_uri": "https://localhost:8080/"
        },
        "id": "MyM-FC-EESZP",
        "outputId": "2466f7b3-6a13-4d72-c2e5-516a372a2655"
      },
      "source": [
        "!tar zxvf drive/MyDrive/mch/moscow_low_data.tar.gz"
      ],
      "execution_count": 3,
      "outputs": [
        {
          "output_type": "stream",
          "text": [
            "2021-03-01_low.csv\n",
            "2021-04-01_low.csv\n",
            "2021-05-01_low.csv\n"
          ],
          "name": "stdout"
        }
      ]
    },
    {
      "cell_type": "code",
      "metadata": {
        "id": "2y50P7ganQQr"
      },
      "source": [
        "import pandas as pd"
      ],
      "execution_count": 1,
      "outputs": []
    },
    {
      "cell_type": "code",
      "metadata": {
        "id": "NnPrs6IdGwZ8"
      },
      "source": [
        "data1=pd.read_csv('2021-05-01_low.csv')"
      ],
      "execution_count": 2,
      "outputs": []
    },
    {
      "cell_type": "code",
      "metadata": {
        "id": "shEKp-T8ce5f"
      },
      "source": [
        "data1.ts=pd.to_datetime(data1.ts)"
      ],
      "execution_count": 3,
      "outputs": []
    },
    {
      "cell_type": "code",
      "metadata": {
        "id": "bdTOBpAohIE8"
      },
      "source": [
        "data1=data1.drop(['user_id','ap_mac'], axis=1)"
      ],
      "execution_count": 4,
      "outputs": []
    },
    {
      "cell_type": "code",
      "metadata": {
        "colab": {
          "base_uri": "https://localhost:8080/",
          "height": 206
        },
        "id": "UMkGsxjFh8En",
        "outputId": "26206d06-f8ce-42f1-e77f-787a0c5b4921"
      },
      "source": [
        "data1.head()"
      ],
      "execution_count": 5,
      "outputs": [
        {
          "output_type": "execute_result",
          "data": {
            "text/html": [
              "<div>\n",
              "<style scoped>\n",
              "    .dataframe tbody tr th:only-of-type {\n",
              "        vertical-align: middle;\n",
              "    }\n",
              "\n",
              "    .dataframe tbody tr th {\n",
              "        vertical-align: top;\n",
              "    }\n",
              "\n",
              "    .dataframe thead th {\n",
              "        text-align: right;\n",
              "    }\n",
              "</style>\n",
              "<table border=\"1\" class=\"dataframe\">\n",
              "  <thead>\n",
              "    <tr style=\"text-align: right;\">\n",
              "      <th></th>\n",
              "      <th>ts</th>\n",
              "      <th>device_id</th>\n",
              "      <th>gps</th>\n",
              "    </tr>\n",
              "  </thead>\n",
              "  <tbody>\n",
              "    <tr>\n",
              "      <th>0</th>\n",
              "      <td>2021-05-26 09:24:05+00:00</td>\n",
              "      <td>655994ae339fcdbd0886c3a3fe29b73a</td>\n",
              "      <td>(55.72114562988281, 37.606163024902344)</td>\n",
              "    </tr>\n",
              "    <tr>\n",
              "      <th>1</th>\n",
              "      <td>2021-05-26 09:24:05+00:00</td>\n",
              "      <td>18d69a401b87499778fb99a67bcb3155</td>\n",
              "      <td>(55.73716735839844, 37.623783111572266)</td>\n",
              "    </tr>\n",
              "    <tr>\n",
              "      <th>2</th>\n",
              "      <td>2021-05-26 09:24:05+00:00</td>\n",
              "      <td>6328866964ec7e04b0849eefe543dfab</td>\n",
              "      <td>(55.72055435180664, 37.566864013671875)</td>\n",
              "    </tr>\n",
              "    <tr>\n",
              "      <th>3</th>\n",
              "      <td>2021-05-26 09:24:05+00:00</td>\n",
              "      <td>88c2f5a0f1ec4670b021c21025c97700</td>\n",
              "      <td>(55.7214241027832, 37.56748580932617)</td>\n",
              "    </tr>\n",
              "    <tr>\n",
              "      <th>4</th>\n",
              "      <td>2021-05-26 09:24:05+00:00</td>\n",
              "      <td>1406237eb1ea4ee9335874709d1e805b</td>\n",
              "      <td>(55.75021743774414, 37.64606475830078)</td>\n",
              "    </tr>\n",
              "  </tbody>\n",
              "</table>\n",
              "</div>"
            ],
            "text/plain": [
              "                         ts  ...                                      gps\n",
              "0 2021-05-26 09:24:05+00:00  ...  (55.72114562988281, 37.606163024902344)\n",
              "1 2021-05-26 09:24:05+00:00  ...  (55.73716735839844, 37.623783111572266)\n",
              "2 2021-05-26 09:24:05+00:00  ...  (55.72055435180664, 37.566864013671875)\n",
              "3 2021-05-26 09:24:05+00:00  ...    (55.7214241027832, 37.56748580932617)\n",
              "4 2021-05-26 09:24:05+00:00  ...   (55.75021743774414, 37.64606475830078)\n",
              "\n",
              "[5 rows x 3 columns]"
            ]
          },
          "metadata": {
            "tags": []
          },
          "execution_count": 5
        }
      ]
    },
    {
      "cell_type": "code",
      "metadata": {
        "id": "T33BTi79eFji"
      },
      "source": [
        "data1['date']=data1.ts.dt.date\n",
        "data1['hour']=data1.ts.dt.hour\n",
        "data1=data1.drop(['ts'], axis=1)"
      ],
      "execution_count": 6,
      "outputs": []
    },
    {
      "cell_type": "code",
      "metadata": {
        "id": "p0Kzulvocmvh"
      },
      "source": [
        "data2=data1.groupby(['hour','date', 'gps']).count()"
      ],
      "execution_count": 7,
      "outputs": []
    },
    {
      "cell_type": "code",
      "metadata": {
        "id": "x1pHVCdIeaWC"
      },
      "source": [
        "data2=data2.reset_index()"
      ],
      "execution_count": 8,
      "outputs": []
    },
    {
      "cell_type": "code",
      "metadata": {
        "id": "P5raj9jlpzq4"
      },
      "source": [
        ""
      ],
      "execution_count": 8,
      "outputs": []
    },
    {
      "cell_type": "code",
      "metadata": {
        "id": "IIW1JKGcey6D"
      },
      "source": [
        "data2['people']=data2['device_id']\n",
        "data2=data2.drop(['device_id'], axis=1)"
      ],
      "execution_count": 9,
      "outputs": []
    },
    {
      "cell_type": "code",
      "metadata": {
        "colab": {
          "base_uri": "https://localhost:8080/",
          "height": 206
        },
        "id": "rKoly-IXn6Jm",
        "outputId": "9d7d62b1-9807-4f0f-f3cb-747148f3d84b"
      },
      "source": [
        "data2.head()"
      ],
      "execution_count": 10,
      "outputs": [
        {
          "output_type": "execute_result",
          "data": {
            "text/html": [
              "<div>\n",
              "<style scoped>\n",
              "    .dataframe tbody tr th:only-of-type {\n",
              "        vertical-align: middle;\n",
              "    }\n",
              "\n",
              "    .dataframe tbody tr th {\n",
              "        vertical-align: top;\n",
              "    }\n",
              "\n",
              "    .dataframe thead th {\n",
              "        text-align: right;\n",
              "    }\n",
              "</style>\n",
              "<table border=\"1\" class=\"dataframe\">\n",
              "  <thead>\n",
              "    <tr style=\"text-align: right;\">\n",
              "      <th></th>\n",
              "      <th>hour</th>\n",
              "      <th>date</th>\n",
              "      <th>gps</th>\n",
              "      <th>people</th>\n",
              "    </tr>\n",
              "  </thead>\n",
              "  <tbody>\n",
              "    <tr>\n",
              "      <th>0</th>\n",
              "      <td>0</td>\n",
              "      <td>2021-05-01</td>\n",
              "      <td>(55.655155181884766, 37.75764846801758)</td>\n",
              "      <td>12</td>\n",
              "    </tr>\n",
              "    <tr>\n",
              "      <th>1</th>\n",
              "      <td>0</td>\n",
              "      <td>2021-05-01</td>\n",
              "      <td>(55.65694046020508, 37.75919723510742)</td>\n",
              "      <td>5</td>\n",
              "    </tr>\n",
              "    <tr>\n",
              "      <th>2</th>\n",
              "      <td>0</td>\n",
              "      <td>2021-05-01</td>\n",
              "      <td>(55.67280578613281, 37.49541473388672)</td>\n",
              "      <td>4</td>\n",
              "    </tr>\n",
              "    <tr>\n",
              "      <th>3</th>\n",
              "      <td>0</td>\n",
              "      <td>2021-05-01</td>\n",
              "      <td>(55.70621871948242, 37.65497970581055)</td>\n",
              "      <td>3</td>\n",
              "    </tr>\n",
              "    <tr>\n",
              "      <th>4</th>\n",
              "      <td>0</td>\n",
              "      <td>2021-05-01</td>\n",
              "      <td>(55.70634841918945, 37.620208740234375)</td>\n",
              "      <td>24</td>\n",
              "    </tr>\n",
              "  </tbody>\n",
              "</table>\n",
              "</div>"
            ],
            "text/plain": [
              "   hour        date                                      gps  people\n",
              "0     0  2021-05-01  (55.655155181884766, 37.75764846801758)      12\n",
              "1     0  2021-05-01   (55.65694046020508, 37.75919723510742)       5\n",
              "2     0  2021-05-01   (55.67280578613281, 37.49541473388672)       4\n",
              "3     0  2021-05-01   (55.70621871948242, 37.65497970581055)       3\n",
              "4     0  2021-05-01  (55.70634841918945, 37.620208740234375)      24"
            ]
          },
          "metadata": {
            "tags": []
          },
          "execution_count": 10
        }
      ]
    },
    {
      "cell_type": "code",
      "metadata": {
        "id": "Mgxq3g6JmrYP"
      },
      "source": [
        "data2.to_csv('05_low.csv')"
      ],
      "execution_count": 12,
      "outputs": []
    },
    {
      "cell_type": "code",
      "metadata": {
        "id": "2qSriKSenmJG"
      },
      "source": [
        ""
      ],
      "execution_count": 11,
      "outputs": []
    }
  ]
}