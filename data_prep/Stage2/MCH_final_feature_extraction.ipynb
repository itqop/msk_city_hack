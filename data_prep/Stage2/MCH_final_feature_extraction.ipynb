{
  "nbformat": 4,
  "nbformat_minor": 0,
  "metadata": {
    "colab": {
      "name": "MCH_final_feature_extraction.ipynb",
      "provenance": []
    },
    "kernelspec": {
      "name": "python3",
      "display_name": "Python 3"
    },
    "language_info": {
      "name": "python"
    }
  },
  "cells": [
    {
      "cell_type": "code",
      "metadata": {
        "id": "n9rsr9_u3qwf"
      },
      "source": [
        "import pandas as pd\n",
        "import numpy as np\n",
        "from tensorflow import keras"
      ],
      "execution_count": 1,
      "outputs": []
    },
    {
      "cell_type": "code",
      "metadata": {
        "id": "j2-05QnE44so"
      },
      "source": [
        "path='drive/MyDrive/mch/'"
      ],
      "execution_count": 2,
      "outputs": []
    },
    {
      "cell_type": "code",
      "metadata": {
        "id": "7bZXXTUW45UA"
      },
      "source": [
        "data3=pd.read_csv(path+'03_low.csv')\n",
        "data4=pd.read_csv(path+'04_low.csv')\n",
        "data5=pd.read_csv(path+'05_low.csv')"
      ],
      "execution_count": 3,
      "outputs": []
    },
    {
      "cell_type": "code",
      "metadata": {
        "id": "8VnO0aLi5vHQ"
      },
      "source": [
        "a=data3.gps"
      ],
      "execution_count": 6,
      "outputs": []
    },
    {
      "cell_type": "code",
      "metadata": {
        "id": "UfTEuCl56mNM"
      },
      "source": [
        "mn1, mn2= 1e9,1e9\n",
        "mx1,mx2=0,0\n",
        "for i in a:\n",
        "  b=list(map(float,i[1:-1].split(', ')))\n",
        "  if b[0]<mn1:\n",
        "    mn1=b[0]\n",
        "  if b[1]<mn2:\n",
        "    mn2=b[1]\n",
        "  if b[0]>mx1:\n",
        "    mx1=b[0]\n",
        "  if b[1]>mx2:\n",
        "    mx2=b[1]"
      ],
      "execution_count": 15,
      "outputs": []
    },
    {
      "cell_type": "code",
      "metadata": {
        "colab": {
          "base_uri": "https://localhost:8080/"
        },
        "id": "fKC7vvRB6-lw",
        "outputId": "66f066ec-148a-408c-f140-ea64d72c0c10"
      },
      "source": [
        "mn1, mn2,"
      ],
      "execution_count": 16,
      "outputs": [
        {
          "output_type": "execute_result",
          "data": {
            "text/plain": [
              "(55.655155181884766, 37.49541473388672, 55.753211975097656, 37.75920104980469)"
            ]
          },
          "metadata": {
            "tags": []
          },
          "execution_count": 16
        }
      ]
    },
    {
      "cell_type": "code",
      "metadata": {
        "colab": {
          "base_uri": "https://localhost:8080/"
        },
        "id": "h__CERaBfUrP",
        "outputId": "776a8ac6-1964-4de6-a7e7-a715f9d5cd09"
      },
      "source": [
        "(37.75920104980469-37.49541473388672)/35"
      ],
      "execution_count": 10,
      "outputs": [
        {
          "output_type": "execute_result",
          "data": {
            "text/plain": [
              "0.007536751883370536"
            ]
          },
          "metadata": {
            "tags": []
          },
          "execution_count": 10
        }
      ]
    },
    {
      "cell_type": "code",
      "metadata": {
        "id": "j3V55lxX7Bqq"
      },
      "source": [
        "data=pd.concat([data3,data4,data5])\n",
        "data.date=pd.to_datetime(data.date)\n",
        "data=data.drop(['Unnamed: 0'],axis=1)"
      ],
      "execution_count": 19,
      "outputs": []
    },
    {
      "cell_type": "code",
      "metadata": {
        "id": "uPqKNleZ7Fb5"
      },
      "source": [
        "data['DayOfWeek']=data.date.dt.dayofweek"
      ],
      "execution_count": 30,
      "outputs": []
    },
    {
      "cell_type": "code",
      "metadata": {
        "id": "nBgVbmGTXE23"
      },
      "source": [
        "data=pd.read_csv('data_prep_coords.csv')\n",
        "data=data.drop(['Unnamed: 0'], axis=1)"
      ],
      "execution_count": 2,
      "outputs": []
    },
    {
      "cell_type": "code",
      "metadata": {
        "id": "vrZ8BdyJeRVv"
      },
      "source": [
        "data=data.drop(['Unnamed: 0'], axis=1)"
      ],
      "execution_count": 4,
      "outputs": []
    },
    {
      "cell_type": "code",
      "metadata": {
        "id": "00HbUSIZ94gv"
      },
      "source": [
        "DoW_Data=((data.groupby(['DayOfWeek', 'gps'])['people'].sum())/92).reset_index()\n",
        "weekend=(DoW_Data[DoW_Data['DayOfWeek']>=5].groupby(['gps']).sum()/2).reset_index()\n",
        "working_day=(DoW_Data[DoW_Data['DayOfWeek']<5].groupby(['gps']).sum()/5).reset_index()"
      ],
      "execution_count": 44,
      "outputs": []
    },
    {
      "cell_type": "code",
      "metadata": {
        "id": "C2MSRv_yBhRu"
      },
      "source": [
        "longs=np.linspace(mn2,mx2,60)\n",
        "lats=np.linspace(mn1,mx1,60)\n",
        "data['lats']=np.zeros(data.shape[0])\n",
        "data['longs']=np.zeros(data.shape[0])"
      ],
      "execution_count": 62,
      "outputs": []
    },
    {
      "cell_type": "code",
      "metadata": {
        "id": "7aTRAwx1CTev"
      },
      "source": [
        "latts=[]\n",
        "longgs=[]\n",
        "for i in range(data.shape[0]):\n",
        "  aaa=list(map(float,data.iloc[i].gps[1:-1].split(', ')))\n",
        "  lat=aaa[0]\n",
        "  lon=aaa[1]\n",
        "  latts.append(lat)\n",
        "  longgs.append(lon)"
      ],
      "execution_count": 80,
      "outputs": []
    },
    {
      "cell_type": "code",
      "metadata": {
        "id": "Q8-jsLvsCfI5"
      },
      "source": [
        "latss=np.array(latts)\n",
        "longss=np.array(longgs)"
      ],
      "execution_count": 85,
      "outputs": []
    },
    {
      "cell_type": "code",
      "metadata": {
        "id": "c8KJWR5GHaCL"
      },
      "source": [
        "data['lat']=latss\n",
        "data['long']=longss"
      ],
      "execution_count": 86,
      "outputs": []
    },
    {
      "cell_type": "code",
      "metadata": {
        "id": "xMQUJmHVJvA3"
      },
      "source": [
        "data.to_csv('data_prep_coords.csv')"
      ],
      "execution_count": 89,
      "outputs": []
    },
    {
      "cell_type": "code",
      "metadata": {
        "colab": {
          "base_uri": "https://localhost:8080/",
          "height": 424
        },
        "id": "_X7CWqg9J1Pw",
        "outputId": "ecb96b1d-df04-4e1d-a467-32a05c9aac0f"
      },
      "source": [
        "data=pd.read_csv('data_prep_coords.csv')\n",
        "data=data.drop(['Unnamed: 0'], axis=1)"
      ],
      "execution_count": 78,
      "outputs": [
        {
          "output_type": "execute_result",
          "data": {
            "text/html": [
              "<div>\n",
              "<style scoped>\n",
              "    .dataframe tbody tr th:only-of-type {\n",
              "        vertical-align: middle;\n",
              "    }\n",
              "\n",
              "    .dataframe tbody tr th {\n",
              "        vertical-align: top;\n",
              "    }\n",
              "\n",
              "    .dataframe thead th {\n",
              "        text-align: right;\n",
              "    }\n",
              "</style>\n",
              "<table border=\"1\" class=\"dataframe\">\n",
              "  <thead>\n",
              "    <tr style=\"text-align: right;\">\n",
              "      <th></th>\n",
              "      <th>hour</th>\n",
              "      <th>date</th>\n",
              "      <th>gps</th>\n",
              "      <th>people</th>\n",
              "      <th>DayOfWeek</th>\n",
              "      <th>lats</th>\n",
              "    </tr>\n",
              "  </thead>\n",
              "  <tbody>\n",
              "    <tr>\n",
              "      <th>0</th>\n",
              "      <td>0</td>\n",
              "      <td>2021-03-01</td>\n",
              "      <td>(55.655155181884766, 37.75764846801758)</td>\n",
              "      <td>7</td>\n",
              "      <td>0</td>\n",
              "      <td>0.0</td>\n",
              "    </tr>\n",
              "    <tr>\n",
              "      <th>1</th>\n",
              "      <td>0</td>\n",
              "      <td>2021-03-01</td>\n",
              "      <td>(55.655540466308594, 37.758636474609375)</td>\n",
              "      <td>10</td>\n",
              "      <td>0</td>\n",
              "      <td>0.0</td>\n",
              "    </tr>\n",
              "    <tr>\n",
              "      <th>2</th>\n",
              "      <td>0</td>\n",
              "      <td>2021-03-01</td>\n",
              "      <td>(55.65694046020508, 37.75919723510742)</td>\n",
              "      <td>5</td>\n",
              "      <td>0</td>\n",
              "      <td>0.0</td>\n",
              "    </tr>\n",
              "    <tr>\n",
              "      <th>3</th>\n",
              "      <td>0</td>\n",
              "      <td>2021-03-01</td>\n",
              "      <td>(55.65735626220703, 37.75857925415039)</td>\n",
              "      <td>10</td>\n",
              "      <td>0</td>\n",
              "      <td>0.0</td>\n",
              "    </tr>\n",
              "    <tr>\n",
              "      <th>4</th>\n",
              "      <td>0</td>\n",
              "      <td>2021-03-01</td>\n",
              "      <td>(55.67280578613281, 37.49541473388672)</td>\n",
              "      <td>3</td>\n",
              "      <td>0</td>\n",
              "      <td>0.0</td>\n",
              "    </tr>\n",
              "    <tr>\n",
              "      <th>...</th>\n",
              "      <td>...</td>\n",
              "      <td>...</td>\n",
              "      <td>...</td>\n",
              "      <td>...</td>\n",
              "      <td>...</td>\n",
              "      <td>...</td>\n",
              "    </tr>\n",
              "    <tr>\n",
              "      <th>982870</th>\n",
              "      <td>23</td>\n",
              "      <td>2021-05-31</td>\n",
              "      <td>(55.75302505493164, 37.600711822509766)</td>\n",
              "      <td>44</td>\n",
              "      <td>0</td>\n",
              "      <td>0.0</td>\n",
              "    </tr>\n",
              "    <tr>\n",
              "      <th>982871</th>\n",
              "      <td>23</td>\n",
              "      <td>2021-05-31</td>\n",
              "      <td>(55.753028869628906, 37.64451599121094)</td>\n",
              "      <td>41</td>\n",
              "      <td>0</td>\n",
              "      <td>0.0</td>\n",
              "    </tr>\n",
              "    <tr>\n",
              "      <th>982872</th>\n",
              "      <td>23</td>\n",
              "      <td>2021-05-31</td>\n",
              "      <td>(55.7530403137207, 37.55640411376953)</td>\n",
              "      <td>8</td>\n",
              "      <td>0</td>\n",
              "      <td>0.0</td>\n",
              "    </tr>\n",
              "    <tr>\n",
              "      <th>982873</th>\n",
              "      <td>23</td>\n",
              "      <td>2021-05-31</td>\n",
              "      <td>(55.75309753417969, 37.586544036865234)</td>\n",
              "      <td>1</td>\n",
              "      <td>0</td>\n",
              "      <td>0.0</td>\n",
              "    </tr>\n",
              "    <tr>\n",
              "      <th>982874</th>\n",
              "      <td>23</td>\n",
              "      <td>2021-05-31</td>\n",
              "      <td>(55.75313949584961, 37.58657455444336)</td>\n",
              "      <td>2</td>\n",
              "      <td>0</td>\n",
              "      <td>0.0</td>\n",
              "    </tr>\n",
              "  </tbody>\n",
              "</table>\n",
              "<p>2896354 rows × 6 columns</p>\n",
              "</div>"
            ],
            "text/plain": [
              "        hour       date  ... DayOfWeek  lats\n",
              "0          0 2021-03-01  ...         0   0.0\n",
              "1          0 2021-03-01  ...         0   0.0\n",
              "2          0 2021-03-01  ...         0   0.0\n",
              "3          0 2021-03-01  ...         0   0.0\n",
              "4          0 2021-03-01  ...         0   0.0\n",
              "...      ...        ...  ...       ...   ...\n",
              "982870    23 2021-05-31  ...         0   0.0\n",
              "982871    23 2021-05-31  ...         0   0.0\n",
              "982872    23 2021-05-31  ...         0   0.0\n",
              "982873    23 2021-05-31  ...         0   0.0\n",
              "982874    23 2021-05-31  ...         0   0.0\n",
              "\n",
              "[2896354 rows x 6 columns]"
            ]
          },
          "metadata": {
            "tags": []
          },
          "execution_count": 78
        }
      ]
    },
    {
      "cell_type": "code",
      "metadata": {
        "colab": {
          "base_uri": "https://localhost:8080/",
          "height": 206
        },
        "id": "dfy1gwqoKwwD",
        "outputId": "17b8174f-b55c-4cd4-8355-a1d3c3183de8"
      },
      "source": [
        "data.head()"
      ],
      "execution_count": 5,
      "outputs": [
        {
          "output_type": "execute_result",
          "data": {
            "text/html": [
              "<div>\n",
              "<style scoped>\n",
              "    .dataframe tbody tr th:only-of-type {\n",
              "        vertical-align: middle;\n",
              "    }\n",
              "\n",
              "    .dataframe tbody tr th {\n",
              "        vertical-align: top;\n",
              "    }\n",
              "\n",
              "    .dataframe thead th {\n",
              "        text-align: right;\n",
              "    }\n",
              "</style>\n",
              "<table border=\"1\" class=\"dataframe\">\n",
              "  <thead>\n",
              "    <tr style=\"text-align: right;\">\n",
              "      <th></th>\n",
              "      <th>hour</th>\n",
              "      <th>date</th>\n",
              "      <th>gps</th>\n",
              "      <th>people</th>\n",
              "      <th>DayOfWeek</th>\n",
              "      <th>lats</th>\n",
              "      <th>longs</th>\n",
              "      <th>lat</th>\n",
              "      <th>long</th>\n",
              "    </tr>\n",
              "  </thead>\n",
              "  <tbody>\n",
              "    <tr>\n",
              "      <th>0</th>\n",
              "      <td>0</td>\n",
              "      <td>2021-03-01</td>\n",
              "      <td>(55.655155181884766, 37.75764846801758)</td>\n",
              "      <td>7</td>\n",
              "      <td>0</td>\n",
              "      <td>0.0</td>\n",
              "      <td>0.0</td>\n",
              "      <td>55.655155</td>\n",
              "      <td>37.757648</td>\n",
              "    </tr>\n",
              "    <tr>\n",
              "      <th>1</th>\n",
              "      <td>0</td>\n",
              "      <td>2021-03-01</td>\n",
              "      <td>(55.655540466308594, 37.758636474609375)</td>\n",
              "      <td>10</td>\n",
              "      <td>0</td>\n",
              "      <td>0.0</td>\n",
              "      <td>0.0</td>\n",
              "      <td>55.655540</td>\n",
              "      <td>37.758636</td>\n",
              "    </tr>\n",
              "    <tr>\n",
              "      <th>2</th>\n",
              "      <td>0</td>\n",
              "      <td>2021-03-01</td>\n",
              "      <td>(55.65694046020508, 37.75919723510742)</td>\n",
              "      <td>5</td>\n",
              "      <td>0</td>\n",
              "      <td>0.0</td>\n",
              "      <td>0.0</td>\n",
              "      <td>55.656940</td>\n",
              "      <td>37.759197</td>\n",
              "    </tr>\n",
              "    <tr>\n",
              "      <th>3</th>\n",
              "      <td>0</td>\n",
              "      <td>2021-03-01</td>\n",
              "      <td>(55.65735626220703, 37.75857925415039)</td>\n",
              "      <td>10</td>\n",
              "      <td>0</td>\n",
              "      <td>0.0</td>\n",
              "      <td>0.0</td>\n",
              "      <td>55.657356</td>\n",
              "      <td>37.758579</td>\n",
              "    </tr>\n",
              "    <tr>\n",
              "      <th>4</th>\n",
              "      <td>0</td>\n",
              "      <td>2021-03-01</td>\n",
              "      <td>(55.67280578613281, 37.49541473388672)</td>\n",
              "      <td>3</td>\n",
              "      <td>0</td>\n",
              "      <td>0.0</td>\n",
              "      <td>0.0</td>\n",
              "      <td>55.672806</td>\n",
              "      <td>37.495415</td>\n",
              "    </tr>\n",
              "  </tbody>\n",
              "</table>\n",
              "</div>"
            ],
            "text/plain": [
              "   hour        date  ...        lat       long\n",
              "0     0  2021-03-01  ...  55.655155  37.757648\n",
              "1     0  2021-03-01  ...  55.655540  37.758636\n",
              "2     0  2021-03-01  ...  55.656940  37.759197\n",
              "3     0  2021-03-01  ...  55.657356  37.758579\n",
              "4     0  2021-03-01  ...  55.672806  37.495415\n",
              "\n",
              "[5 rows x 9 columns]"
            ]
          },
          "metadata": {
            "tags": []
          },
          "execution_count": 5
        }
      ]
    },
    {
      "cell_type": "code",
      "metadata": {
        "colab": {
          "base_uri": "https://localhost:8080/"
        },
        "id": "tyz-m2-7e_1R",
        "outputId": "fac409d5-59f9-4677-e87e-44d316334412"
      },
      "source": [
        "data.groupby(pd.cut(data[\"lat\"], np.arange(55.655155, 55.753211975097656+0.0028016226632254465, 0.0028016226632254465)))['people'].mean()"
      ],
      "execution_count": 16,
      "outputs": [
        {
          "output_type": "execute_result",
          "data": {
            "text/plain": [
              "lat\n",
              "(55.655, 55.658]    20.281097\n",
              "(55.658, 55.661]          NaN\n",
              "(55.661, 55.664]          NaN\n",
              "(55.664, 55.666]          NaN\n",
              "(55.666, 55.669]          NaN\n",
              "(55.669, 55.672]          NaN\n",
              "(55.672, 55.675]    29.750497\n",
              "(55.675, 55.678]          NaN\n",
              "(55.678, 55.68]           NaN\n",
              "(55.68, 55.683]           NaN\n",
              "(55.683, 55.686]          NaN\n",
              "(55.686, 55.689]          NaN\n",
              "(55.689, 55.692]          NaN\n",
              "(55.692, 55.694]          NaN\n",
              "(55.694, 55.697]          NaN\n",
              "(55.697, 55.7]            NaN\n",
              "(55.7, 55.703]            NaN\n",
              "(55.703, 55.706]    60.540161\n",
              "(55.706, 55.708]    61.228167\n",
              "(55.708, 55.711]    68.430895\n",
              "(55.711, 55.714]    57.397207\n",
              "(55.714, 55.717]    46.507170\n",
              "(55.717, 55.72]     61.100693\n",
              "(55.72, 55.722]     61.114706\n",
              "(55.722, 55.725]    55.436001\n",
              "(55.725, 55.728]    75.785035\n",
              "(55.728, 55.731]    84.872276\n",
              "(55.731, 55.734]    62.691917\n",
              "(55.734, 55.736]    60.830259\n",
              "(55.736, 55.739]    65.476755\n",
              "(55.739, 55.742]    62.365836\n",
              "(55.742, 55.745]    67.586489\n",
              "(55.745, 55.748]    66.405913\n",
              "(55.748, 55.75]     77.605995\n",
              "(55.75, 55.753]     91.259967\n",
              "(55.753, 55.756]    21.679817\n",
              "Name: people, dtype: float64"
            ]
          },
          "metadata": {
            "tags": []
          },
          "execution_count": 16
        }
      ]
    },
    {
      "cell_type": "code",
      "metadata": {
        "id": "sm1MRInvgJyw"
      },
      "source": [
        "data_agg=data.groupby([pd.cut(data[\"lat\"], np.arange(55.655155, 55.753211975097656+0.0028016226632254465, 0.0028016226632254465)),pd.cut(data[\"long\"], np.arange(37.49541473388672, 37.75920104980469+0.007536751883370536, 0.007536751883370536)), 'DayOfWeek', 'hour'])['people'].mean().reset_index()"
      ],
      "execution_count": 29,
      "outputs": []
    },
    {
      "cell_type": "code",
      "metadata": {
        "id": "92gLcYPNp95W"
      },
      "source": [
        ""
      ],
      "execution_count": 34,
      "outputs": []
    },
    {
      "cell_type": "code",
      "metadata": {
        "colab": {
          "base_uri": "https://localhost:8080/"
        },
        "id": "TDtpyER1p-bL",
        "outputId": "3a58f270-b834-40a9-c799-b0a943fc6aa9"
      },
      "source": [
        "np.argmax(data_agg.people)"
      ],
      "execution_count": 35,
      "outputs": [
        {
          "output_type": "execute_result",
          "data": {
            "text/plain": [
              "129026"
            ]
          },
          "metadata": {
            "tags": []
          },
          "execution_count": 35
        }
      ]
    },
    {
      "cell_type": "code",
      "metadata": {
        "colab": {
          "base_uri": "https://localhost:8080/",
          "height": 424
        },
        "id": "VmcHqla-r2Ec",
        "outputId": "b2b371a0-cc51-4a9e-c79a-e259c6429c4c"
      },
      "source": [
        "data_agg[data_agg['DayOfWeek']<5].groupby(['lat','long'])['people'].mean().reset_index()"
      ],
      "execution_count": 41,
      "outputs": [
        {
          "output_type": "execute_result",
          "data": {
            "text/html": [
              "<div>\n",
              "<style scoped>\n",
              "    .dataframe tbody tr th:only-of-type {\n",
              "        vertical-align: middle;\n",
              "    }\n",
              "\n",
              "    .dataframe tbody tr th {\n",
              "        vertical-align: top;\n",
              "    }\n",
              "\n",
              "    .dataframe thead th {\n",
              "        text-align: right;\n",
              "    }\n",
              "</style>\n",
              "<table border=\"1\" class=\"dataframe\">\n",
              "  <thead>\n",
              "    <tr style=\"text-align: right;\">\n",
              "      <th></th>\n",
              "      <th>lat</th>\n",
              "      <th>long</th>\n",
              "      <th>people</th>\n",
              "    </tr>\n",
              "  </thead>\n",
              "  <tbody>\n",
              "    <tr>\n",
              "      <th>0</th>\n",
              "      <td>(55.655, 55.658]</td>\n",
              "      <td>(37.495, 37.503]</td>\n",
              "      <td>0.0</td>\n",
              "    </tr>\n",
              "    <tr>\n",
              "      <th>1</th>\n",
              "      <td>(55.655, 55.658]</td>\n",
              "      <td>(37.503, 37.51]</td>\n",
              "      <td>0.0</td>\n",
              "    </tr>\n",
              "    <tr>\n",
              "      <th>2</th>\n",
              "      <td>(55.655, 55.658]</td>\n",
              "      <td>(37.51, 37.518]</td>\n",
              "      <td>0.0</td>\n",
              "    </tr>\n",
              "    <tr>\n",
              "      <th>3</th>\n",
              "      <td>(55.655, 55.658]</td>\n",
              "      <td>(37.518, 37.526]</td>\n",
              "      <td>0.0</td>\n",
              "    </tr>\n",
              "    <tr>\n",
              "      <th>4</th>\n",
              "      <td>(55.655, 55.658]</td>\n",
              "      <td>(37.526, 37.533]</td>\n",
              "      <td>0.0</td>\n",
              "    </tr>\n",
              "    <tr>\n",
              "      <th>...</th>\n",
              "      <td>...</td>\n",
              "      <td>...</td>\n",
              "      <td>...</td>\n",
              "    </tr>\n",
              "    <tr>\n",
              "      <th>1291</th>\n",
              "      <td>(55.753, 55.756]</td>\n",
              "      <td>(37.729, 37.737]</td>\n",
              "      <td>0.0</td>\n",
              "    </tr>\n",
              "    <tr>\n",
              "      <th>1292</th>\n",
              "      <td>(55.753, 55.756]</td>\n",
              "      <td>(37.737, 37.744]</td>\n",
              "      <td>0.0</td>\n",
              "    </tr>\n",
              "    <tr>\n",
              "      <th>1293</th>\n",
              "      <td>(55.753, 55.756]</td>\n",
              "      <td>(37.744, 37.752]</td>\n",
              "      <td>0.0</td>\n",
              "    </tr>\n",
              "    <tr>\n",
              "      <th>1294</th>\n",
              "      <td>(55.753, 55.756]</td>\n",
              "      <td>(37.752, 37.759]</td>\n",
              "      <td>0.0</td>\n",
              "    </tr>\n",
              "    <tr>\n",
              "      <th>1295</th>\n",
              "      <td>(55.753, 55.756]</td>\n",
              "      <td>(37.759, 37.767]</td>\n",
              "      <td>0.0</td>\n",
              "    </tr>\n",
              "  </tbody>\n",
              "</table>\n",
              "<p>1296 rows × 3 columns</p>\n",
              "</div>"
            ],
            "text/plain": [
              "                   lat              long  people\n",
              "0     (55.655, 55.658]  (37.495, 37.503]     0.0\n",
              "1     (55.655, 55.658]   (37.503, 37.51]     0.0\n",
              "2     (55.655, 55.658]   (37.51, 37.518]     0.0\n",
              "3     (55.655, 55.658]  (37.518, 37.526]     0.0\n",
              "4     (55.655, 55.658]  (37.526, 37.533]     0.0\n",
              "...                ...               ...     ...\n",
              "1291  (55.753, 55.756]  (37.729, 37.737]     0.0\n",
              "1292  (55.753, 55.756]  (37.737, 37.744]     0.0\n",
              "1293  (55.753, 55.756]  (37.744, 37.752]     0.0\n",
              "1294  (55.753, 55.756]  (37.752, 37.759]     0.0\n",
              "1295  (55.753, 55.756]  (37.759, 37.767]     0.0\n",
              "\n",
              "[1296 rows x 3 columns]"
            ]
          },
          "metadata": {
            "tags": []
          },
          "execution_count": 41
        }
      ]
    },
    {
      "cell_type": "code",
      "metadata": {
        "id": "saVCN981sQX5"
      },
      "source": [
        "weekend_features=data_agg[data_agg['DayOfWeek']>=5].groupby(['lat','long'])['people'].mean().reset_index()\n",
        "workday_features=data_agg[data_agg['DayOfWeek']<5].groupby(['lat','long'])['people'].mean().reset_index()"
      ],
      "execution_count": 40,
      "outputs": []
    },
    {
      "cell_type": "code",
      "metadata": {
        "colab": {
          "base_uri": "https://localhost:8080/"
        },
        "id": "ebf2S13oy7oL",
        "outputId": "017abd2d-20b1-4240-d375-7ac2a4f3afea"
      },
      "source": [
        "workday_features.iloc[np.argmax(workday_features.people)]"
      ],
      "execution_count": 44,
      "outputs": [
        {
          "output_type": "execute_result",
          "data": {
            "text/plain": [
              "lat       (55.714, 55.717]\n",
              "long      (37.586, 37.593]\n",
              "people             289.123\n",
              "Name: 768, dtype: object"
            ]
          },
          "metadata": {
            "tags": []
          },
          "execution_count": 44
        }
      ]
    },
    {
      "cell_type": "code",
      "metadata": {
        "id": "S6SUpkBQ1Hal"
      },
      "source": [
        "df_utro=data_agg['hour']>=6\n",
        "df_vech=data_agg['hour']<=23"
      ],
      "execution_count": 47,
      "outputs": []
    },
    {
      "cell_type": "code",
      "metadata": {
        "id": "_73VQ5_kzLBU"
      },
      "source": [
        "data_den=data_agg[df_utro & df_vech].groupby(['lat','long'])['people'].mean().reset_index()\n",
        "data_noch=data_agg[~df_utro | ~df_vech].groupby(['lat','long'])['people'].mean().reset_index()"
      ],
      "execution_count": 51,
      "outputs": []
    },
    {
      "cell_type": "code",
      "metadata": {
        "colab": {
          "base_uri": "https://localhost:8080/"
        },
        "id": "9GkuaCc8zSAp",
        "outputId": "59e5d8bd-ff11-4e44-86d4-7220a6f89338"
      },
      "source": [
        "sum(data_den.people)-sum(data_noch.people)"
      ],
      "execution_count": 56,
      "outputs": [
        {
          "output_type": "execute_result",
          "data": {
            "text/plain": [
              "-292.92402377987673"
            ]
          },
          "metadata": {
            "tags": []
          },
          "execution_count": 56
        }
      ]
    },
    {
      "cell_type": "code",
      "metadata": {
        "colab": {
          "base_uri": "https://localhost:8080/",
          "height": 424
        },
        "id": "8-gD8cpn1-JP",
        "outputId": "732dc84d-be93-44f8-ec83-ad84c710482e"
      },
      "source": [
        "data_den"
      ],
      "execution_count": 58,
      "outputs": [
        {
          "output_type": "execute_result",
          "data": {
            "text/html": [
              "<div>\n",
              "<style scoped>\n",
              "    .dataframe tbody tr th:only-of-type {\n",
              "        vertical-align: middle;\n",
              "    }\n",
              "\n",
              "    .dataframe tbody tr th {\n",
              "        vertical-align: top;\n",
              "    }\n",
              "\n",
              "    .dataframe thead th {\n",
              "        text-align: right;\n",
              "    }\n",
              "</style>\n",
              "<table border=\"1\" class=\"dataframe\">\n",
              "  <thead>\n",
              "    <tr style=\"text-align: right;\">\n",
              "      <th></th>\n",
              "      <th>lat</th>\n",
              "      <th>long</th>\n",
              "      <th>people</th>\n",
              "    </tr>\n",
              "  </thead>\n",
              "  <tbody>\n",
              "    <tr>\n",
              "      <th>0</th>\n",
              "      <td>(55.655, 55.658]</td>\n",
              "      <td>(37.495, 37.503]</td>\n",
              "      <td>0.0</td>\n",
              "    </tr>\n",
              "    <tr>\n",
              "      <th>1</th>\n",
              "      <td>(55.655, 55.658]</td>\n",
              "      <td>(37.503, 37.51]</td>\n",
              "      <td>0.0</td>\n",
              "    </tr>\n",
              "    <tr>\n",
              "      <th>2</th>\n",
              "      <td>(55.655, 55.658]</td>\n",
              "      <td>(37.51, 37.518]</td>\n",
              "      <td>0.0</td>\n",
              "    </tr>\n",
              "    <tr>\n",
              "      <th>3</th>\n",
              "      <td>(55.655, 55.658]</td>\n",
              "      <td>(37.518, 37.526]</td>\n",
              "      <td>0.0</td>\n",
              "    </tr>\n",
              "    <tr>\n",
              "      <th>4</th>\n",
              "      <td>(55.655, 55.658]</td>\n",
              "      <td>(37.526, 37.533]</td>\n",
              "      <td>0.0</td>\n",
              "    </tr>\n",
              "    <tr>\n",
              "      <th>...</th>\n",
              "      <td>...</td>\n",
              "      <td>...</td>\n",
              "      <td>...</td>\n",
              "    </tr>\n",
              "    <tr>\n",
              "      <th>1291</th>\n",
              "      <td>(55.753, 55.756]</td>\n",
              "      <td>(37.729, 37.737]</td>\n",
              "      <td>0.0</td>\n",
              "    </tr>\n",
              "    <tr>\n",
              "      <th>1292</th>\n",
              "      <td>(55.753, 55.756]</td>\n",
              "      <td>(37.737, 37.744]</td>\n",
              "      <td>0.0</td>\n",
              "    </tr>\n",
              "    <tr>\n",
              "      <th>1293</th>\n",
              "      <td>(55.753, 55.756]</td>\n",
              "      <td>(37.744, 37.752]</td>\n",
              "      <td>0.0</td>\n",
              "    </tr>\n",
              "    <tr>\n",
              "      <th>1294</th>\n",
              "      <td>(55.753, 55.756]</td>\n",
              "      <td>(37.752, 37.759]</td>\n",
              "      <td>0.0</td>\n",
              "    </tr>\n",
              "    <tr>\n",
              "      <th>1295</th>\n",
              "      <td>(55.753, 55.756]</td>\n",
              "      <td>(37.759, 37.767]</td>\n",
              "      <td>0.0</td>\n",
              "    </tr>\n",
              "  </tbody>\n",
              "</table>\n",
              "<p>1296 rows × 3 columns</p>\n",
              "</div>"
            ],
            "text/plain": [
              "                   lat              long  people\n",
              "0     (55.655, 55.658]  (37.495, 37.503]     0.0\n",
              "1     (55.655, 55.658]   (37.503, 37.51]     0.0\n",
              "2     (55.655, 55.658]   (37.51, 37.518]     0.0\n",
              "3     (55.655, 55.658]  (37.518, 37.526]     0.0\n",
              "4     (55.655, 55.658]  (37.526, 37.533]     0.0\n",
              "...                ...               ...     ...\n",
              "1291  (55.753, 55.756]  (37.729, 37.737]     0.0\n",
              "1292  (55.753, 55.756]  (37.737, 37.744]     0.0\n",
              "1293  (55.753, 55.756]  (37.744, 37.752]     0.0\n",
              "1294  (55.753, 55.756]  (37.752, 37.759]     0.0\n",
              "1295  (55.753, 55.756]  (37.759, 37.767]     0.0\n",
              "\n",
              "[1296 rows x 3 columns]"
            ]
          },
          "metadata": {
            "tags": []
          },
          "execution_count": 58
        }
      ]
    },
    {
      "cell_type": "code",
      "metadata": {
        "colab": {
          "base_uri": "https://localhost:8080/",
          "height": 424
        },
        "id": "ane9V92z29zF",
        "outputId": "1009ec96-ae97-48be-a3a8-6015eeb3a797"
      },
      "source": [
        "data_noch"
      ],
      "execution_count": 59,
      "outputs": [
        {
          "output_type": "execute_result",
          "data": {
            "text/html": [
              "<div>\n",
              "<style scoped>\n",
              "    .dataframe tbody tr th:only-of-type {\n",
              "        vertical-align: middle;\n",
              "    }\n",
              "\n",
              "    .dataframe tbody tr th {\n",
              "        vertical-align: top;\n",
              "    }\n",
              "\n",
              "    .dataframe thead th {\n",
              "        text-align: right;\n",
              "    }\n",
              "</style>\n",
              "<table border=\"1\" class=\"dataframe\">\n",
              "  <thead>\n",
              "    <tr style=\"text-align: right;\">\n",
              "      <th></th>\n",
              "      <th>lat</th>\n",
              "      <th>long</th>\n",
              "      <th>people</th>\n",
              "    </tr>\n",
              "  </thead>\n",
              "  <tbody>\n",
              "    <tr>\n",
              "      <th>0</th>\n",
              "      <td>(55.655, 55.658]</td>\n",
              "      <td>(37.495, 37.503]</td>\n",
              "      <td>0.0</td>\n",
              "    </tr>\n",
              "    <tr>\n",
              "      <th>1</th>\n",
              "      <td>(55.655, 55.658]</td>\n",
              "      <td>(37.503, 37.51]</td>\n",
              "      <td>0.0</td>\n",
              "    </tr>\n",
              "    <tr>\n",
              "      <th>2</th>\n",
              "      <td>(55.655, 55.658]</td>\n",
              "      <td>(37.51, 37.518]</td>\n",
              "      <td>0.0</td>\n",
              "    </tr>\n",
              "    <tr>\n",
              "      <th>3</th>\n",
              "      <td>(55.655, 55.658]</td>\n",
              "      <td>(37.518, 37.526]</td>\n",
              "      <td>0.0</td>\n",
              "    </tr>\n",
              "    <tr>\n",
              "      <th>4</th>\n",
              "      <td>(55.655, 55.658]</td>\n",
              "      <td>(37.526, 37.533]</td>\n",
              "      <td>0.0</td>\n",
              "    </tr>\n",
              "    <tr>\n",
              "      <th>...</th>\n",
              "      <td>...</td>\n",
              "      <td>...</td>\n",
              "      <td>...</td>\n",
              "    </tr>\n",
              "    <tr>\n",
              "      <th>1291</th>\n",
              "      <td>(55.753, 55.756]</td>\n",
              "      <td>(37.729, 37.737]</td>\n",
              "      <td>0.0</td>\n",
              "    </tr>\n",
              "    <tr>\n",
              "      <th>1292</th>\n",
              "      <td>(55.753, 55.756]</td>\n",
              "      <td>(37.737, 37.744]</td>\n",
              "      <td>0.0</td>\n",
              "    </tr>\n",
              "    <tr>\n",
              "      <th>1293</th>\n",
              "      <td>(55.753, 55.756]</td>\n",
              "      <td>(37.744, 37.752]</td>\n",
              "      <td>0.0</td>\n",
              "    </tr>\n",
              "    <tr>\n",
              "      <th>1294</th>\n",
              "      <td>(55.753, 55.756]</td>\n",
              "      <td>(37.752, 37.759]</td>\n",
              "      <td>0.0</td>\n",
              "    </tr>\n",
              "    <tr>\n",
              "      <th>1295</th>\n",
              "      <td>(55.753, 55.756]</td>\n",
              "      <td>(37.759, 37.767]</td>\n",
              "      <td>0.0</td>\n",
              "    </tr>\n",
              "  </tbody>\n",
              "</table>\n",
              "<p>1296 rows × 3 columns</p>\n",
              "</div>"
            ],
            "text/plain": [
              "                   lat              long  people\n",
              "0     (55.655, 55.658]  (37.495, 37.503]     0.0\n",
              "1     (55.655, 55.658]   (37.503, 37.51]     0.0\n",
              "2     (55.655, 55.658]   (37.51, 37.518]     0.0\n",
              "3     (55.655, 55.658]  (37.518, 37.526]     0.0\n",
              "4     (55.655, 55.658]  (37.526, 37.533]     0.0\n",
              "...                ...               ...     ...\n",
              "1291  (55.753, 55.756]  (37.729, 37.737]     0.0\n",
              "1292  (55.753, 55.756]  (37.737, 37.744]     0.0\n",
              "1293  (55.753, 55.756]  (37.744, 37.752]     0.0\n",
              "1294  (55.753, 55.756]  (37.752, 37.759]     0.0\n",
              "1295  (55.753, 55.756]  (37.759, 37.767]     0.0\n",
              "\n",
              "[1296 rows x 3 columns]"
            ]
          },
          "metadata": {
            "tags": []
          },
          "execution_count": 59
        }
      ]
    },
    {
      "cell_type": "code",
      "metadata": {
        "id": "UjpsMsH53A5v"
      },
      "source": [
        ""
      ],
      "execution_count": 62,
      "outputs": []
    },
    {
      "cell_type": "code",
      "metadata": {
        "id": "vXryU7xQ3JNy"
      },
      "source": [
        "data_fin_traffic=data_agg.groupby(['lat','long'])['people'].mean().reset_index()\n",
        "data_fin_traffic['weekend_mean']=weekend_features['people']\n",
        "data_fin_traffic['workdays_mean']=workday_features['people']\n",
        "data_fin_traffic['day_mean']=data_den['people']\n",
        "data_fin_traffic['night_mean']=data_noch['people']"
      ],
      "execution_count": 64,
      "outputs": []
    },
    {
      "cell_type": "code",
      "metadata": {
        "id": "TiJ2HXve4VVP"
      },
      "source": [
        "data_fin_traffic.to_csv('data_extracted.csv')"
      ],
      "execution_count": 73,
      "outputs": []
    },
    {
      "cell_type": "code",
      "metadata": {
        "id": "-vKHtZ924X4m"
      },
      "source": [
        ""
      ],
      "execution_count": null,
      "outputs": []
    }
  ]
}